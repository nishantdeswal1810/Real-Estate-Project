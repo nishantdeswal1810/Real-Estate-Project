{
  "cells": [
    {
      "cell_type": "code",
      "execution_count": 1,
      "id": "54076bbd",
      "metadata": {
        "id": "54076bbd"
      },
      "outputs": [],
      "source": [
        "import pandas as pd\n",
        "import numpy as np\n",
        "import matplotlib.pyplot as plt\n",
        "import seaborn as sns"
      ]
    },
    {
      "cell_type": "code",
      "execution_count": 2,
      "id": "cf5aa6a2",
      "metadata": {
        "id": "cf5aa6a2"
      },
      "outputs": [],
      "source": [
        "df = pd.read_csv('gurgaon_properties_cleaned_v2.csv')"
      ]
    },
    {
      "cell_type": "code",
      "execution_count": 3,
      "id": "ca3369b7",
      "metadata": {
        "id": "ca3369b7",
        "outputId": "613fd1b2-30a5-46df-f37e-3bb98b0316cf",
        "colab": {
          "base_uri": "https://localhost:8080/",
          "height": 533
        }
      },
      "outputs": [
        {
          "output_type": "execute_result",
          "data": {
            "text/plain": [
              "  property_type       society     sector  price  price_per_sqft  \\\n",
              "0          flat    chd avenue  sector 71   1.10          6790.0   \n",
              "1          flat  tulip violet  sector 69   3.10          9822.0   \n",
              "2         house   independent  sector 43   7.85         29074.0   \n",
              "3          flat    chd avenue  sector 71   0.98          6049.0   \n",
              "4          flat   m3m skywalk  sector 74   1.47         10954.0   \n",
              "\n",
              "                                        areaWithType  bedRoom  bathroom  \\\n",
              "0              Super Built up area 1620(150.5 sq.m.)        3         3   \n",
              "1  Super Built up area 3156(293.2 sq.m.)Carpet ar...        4         6   \n",
              "2                        Plot area 300(250.84 sq.m.)        9         9   \n",
              "3              Super Built up area 1620(150.5 sq.m.)        3         3   \n",
              "4             Super Built up area 1415(131.46 sq.m.)        2         2   \n",
              "\n",
              "  balcony  floorNum  ... super_built_up_area built_up_area  carpet_area  \\\n",
              "0       3      11.0  ...              1620.0           NaN          NaN   \n",
              "1      3+      14.0  ...              3156.0           NaN       2500.0   \n",
              "2      3+       3.0  ...                 NaN        2700.0          NaN   \n",
              "3       3       0.0  ...              1620.0           NaN          NaN   \n",
              "4       3      26.0  ...              1415.0           NaN          NaN   \n",
              "\n",
              "   study room  servant room  store room  pooja room  others  furnishing_type  \\\n",
              "0           0             0           0           0       1                0   \n",
              "1           0             1           0           1       0                0   \n",
              "2           1             1           0           1       1                1   \n",
              "3           1             0           0           0       0                0   \n",
              "4           0             0           0           0       0                2   \n",
              "\n",
              "   luxury_score  \n",
              "0            72  \n",
              "1           174  \n",
              "2            49  \n",
              "3            65  \n",
              "4            31  \n",
              "\n",
              "[5 rows x 23 columns]"
            ],
            "text/html": [
              "\n",
              "  <div id=\"df-2c23829f-d89a-4fb7-8563-4599658b01aa\" class=\"colab-df-container\">\n",
              "    <div>\n",
              "<style scoped>\n",
              "    .dataframe tbody tr th:only-of-type {\n",
              "        vertical-align: middle;\n",
              "    }\n",
              "\n",
              "    .dataframe tbody tr th {\n",
              "        vertical-align: top;\n",
              "    }\n",
              "\n",
              "    .dataframe thead th {\n",
              "        text-align: right;\n",
              "    }\n",
              "</style>\n",
              "<table border=\"1\" class=\"dataframe\">\n",
              "  <thead>\n",
              "    <tr style=\"text-align: right;\">\n",
              "      <th></th>\n",
              "      <th>property_type</th>\n",
              "      <th>society</th>\n",
              "      <th>sector</th>\n",
              "      <th>price</th>\n",
              "      <th>price_per_sqft</th>\n",
              "      <th>areaWithType</th>\n",
              "      <th>bedRoom</th>\n",
              "      <th>bathroom</th>\n",
              "      <th>balcony</th>\n",
              "      <th>floorNum</th>\n",
              "      <th>...</th>\n",
              "      <th>super_built_up_area</th>\n",
              "      <th>built_up_area</th>\n",
              "      <th>carpet_area</th>\n",
              "      <th>study room</th>\n",
              "      <th>servant room</th>\n",
              "      <th>store room</th>\n",
              "      <th>pooja room</th>\n",
              "      <th>others</th>\n",
              "      <th>furnishing_type</th>\n",
              "      <th>luxury_score</th>\n",
              "    </tr>\n",
              "  </thead>\n",
              "  <tbody>\n",
              "    <tr>\n",
              "      <th>0</th>\n",
              "      <td>flat</td>\n",
              "      <td>chd avenue</td>\n",
              "      <td>sector 71</td>\n",
              "      <td>1.10</td>\n",
              "      <td>6790.0</td>\n",
              "      <td>Super Built up area 1620(150.5 sq.m.)</td>\n",
              "      <td>3</td>\n",
              "      <td>3</td>\n",
              "      <td>3</td>\n",
              "      <td>11.0</td>\n",
              "      <td>...</td>\n",
              "      <td>1620.0</td>\n",
              "      <td>NaN</td>\n",
              "      <td>NaN</td>\n",
              "      <td>0</td>\n",
              "      <td>0</td>\n",
              "      <td>0</td>\n",
              "      <td>0</td>\n",
              "      <td>1</td>\n",
              "      <td>0</td>\n",
              "      <td>72</td>\n",
              "    </tr>\n",
              "    <tr>\n",
              "      <th>1</th>\n",
              "      <td>flat</td>\n",
              "      <td>tulip violet</td>\n",
              "      <td>sector 69</td>\n",
              "      <td>3.10</td>\n",
              "      <td>9822.0</td>\n",
              "      <td>Super Built up area 3156(293.2 sq.m.)Carpet ar...</td>\n",
              "      <td>4</td>\n",
              "      <td>6</td>\n",
              "      <td>3+</td>\n",
              "      <td>14.0</td>\n",
              "      <td>...</td>\n",
              "      <td>3156.0</td>\n",
              "      <td>NaN</td>\n",
              "      <td>2500.0</td>\n",
              "      <td>0</td>\n",
              "      <td>1</td>\n",
              "      <td>0</td>\n",
              "      <td>1</td>\n",
              "      <td>0</td>\n",
              "      <td>0</td>\n",
              "      <td>174</td>\n",
              "    </tr>\n",
              "    <tr>\n",
              "      <th>2</th>\n",
              "      <td>house</td>\n",
              "      <td>independent</td>\n",
              "      <td>sector 43</td>\n",
              "      <td>7.85</td>\n",
              "      <td>29074.0</td>\n",
              "      <td>Plot area 300(250.84 sq.m.)</td>\n",
              "      <td>9</td>\n",
              "      <td>9</td>\n",
              "      <td>3+</td>\n",
              "      <td>3.0</td>\n",
              "      <td>...</td>\n",
              "      <td>NaN</td>\n",
              "      <td>2700.0</td>\n",
              "      <td>NaN</td>\n",
              "      <td>1</td>\n",
              "      <td>1</td>\n",
              "      <td>0</td>\n",
              "      <td>1</td>\n",
              "      <td>1</td>\n",
              "      <td>1</td>\n",
              "      <td>49</td>\n",
              "    </tr>\n",
              "    <tr>\n",
              "      <th>3</th>\n",
              "      <td>flat</td>\n",
              "      <td>chd avenue</td>\n",
              "      <td>sector 71</td>\n",
              "      <td>0.98</td>\n",
              "      <td>6049.0</td>\n",
              "      <td>Super Built up area 1620(150.5 sq.m.)</td>\n",
              "      <td>3</td>\n",
              "      <td>3</td>\n",
              "      <td>3</td>\n",
              "      <td>0.0</td>\n",
              "      <td>...</td>\n",
              "      <td>1620.0</td>\n",
              "      <td>NaN</td>\n",
              "      <td>NaN</td>\n",
              "      <td>1</td>\n",
              "      <td>0</td>\n",
              "      <td>0</td>\n",
              "      <td>0</td>\n",
              "      <td>0</td>\n",
              "      <td>0</td>\n",
              "      <td>65</td>\n",
              "    </tr>\n",
              "    <tr>\n",
              "      <th>4</th>\n",
              "      <td>flat</td>\n",
              "      <td>m3m skywalk</td>\n",
              "      <td>sector 74</td>\n",
              "      <td>1.47</td>\n",
              "      <td>10954.0</td>\n",
              "      <td>Super Built up area 1415(131.46 sq.m.)</td>\n",
              "      <td>2</td>\n",
              "      <td>2</td>\n",
              "      <td>3</td>\n",
              "      <td>26.0</td>\n",
              "      <td>...</td>\n",
              "      <td>1415.0</td>\n",
              "      <td>NaN</td>\n",
              "      <td>NaN</td>\n",
              "      <td>0</td>\n",
              "      <td>0</td>\n",
              "      <td>0</td>\n",
              "      <td>0</td>\n",
              "      <td>0</td>\n",
              "      <td>2</td>\n",
              "      <td>31</td>\n",
              "    </tr>\n",
              "  </tbody>\n",
              "</table>\n",
              "<p>5 rows × 23 columns</p>\n",
              "</div>\n",
              "    <div class=\"colab-df-buttons\">\n",
              "\n",
              "  <div class=\"colab-df-container\">\n",
              "    <button class=\"colab-df-convert\" onclick=\"convertToInteractive('df-2c23829f-d89a-4fb7-8563-4599658b01aa')\"\n",
              "            title=\"Convert this dataframe to an interactive table.\"\n",
              "            style=\"display:none;\">\n",
              "\n",
              "  <svg xmlns=\"http://www.w3.org/2000/svg\" height=\"24px\" viewBox=\"0 -960 960 960\">\n",
              "    <path d=\"M120-120v-720h720v720H120Zm60-500h600v-160H180v160Zm220 220h160v-160H400v160Zm0 220h160v-160H400v160ZM180-400h160v-160H180v160Zm440 0h160v-160H620v160ZM180-180h160v-160H180v160Zm440 0h160v-160H620v160Z\"/>\n",
              "  </svg>\n",
              "    </button>\n",
              "\n",
              "  <style>\n",
              "    .colab-df-container {\n",
              "      display:flex;\n",
              "      gap: 12px;\n",
              "    }\n",
              "\n",
              "    .colab-df-convert {\n",
              "      background-color: #E8F0FE;\n",
              "      border: none;\n",
              "      border-radius: 50%;\n",
              "      cursor: pointer;\n",
              "      display: none;\n",
              "      fill: #1967D2;\n",
              "      height: 32px;\n",
              "      padding: 0 0 0 0;\n",
              "      width: 32px;\n",
              "    }\n",
              "\n",
              "    .colab-df-convert:hover {\n",
              "      background-color: #E2EBFA;\n",
              "      box-shadow: 0px 1px 2px rgba(60, 64, 67, 0.3), 0px 1px 3px 1px rgba(60, 64, 67, 0.15);\n",
              "      fill: #174EA6;\n",
              "    }\n",
              "\n",
              "    .colab-df-buttons div {\n",
              "      margin-bottom: 4px;\n",
              "    }\n",
              "\n",
              "    [theme=dark] .colab-df-convert {\n",
              "      background-color: #3B4455;\n",
              "      fill: #D2E3FC;\n",
              "    }\n",
              "\n",
              "    [theme=dark] .colab-df-convert:hover {\n",
              "      background-color: #434B5C;\n",
              "      box-shadow: 0px 1px 3px 1px rgba(0, 0, 0, 0.15);\n",
              "      filter: drop-shadow(0px 1px 2px rgba(0, 0, 0, 0.3));\n",
              "      fill: #FFFFFF;\n",
              "    }\n",
              "  </style>\n",
              "\n",
              "    <script>\n",
              "      const buttonEl =\n",
              "        document.querySelector('#df-2c23829f-d89a-4fb7-8563-4599658b01aa button.colab-df-convert');\n",
              "      buttonEl.style.display =\n",
              "        google.colab.kernel.accessAllowed ? 'block' : 'none';\n",
              "\n",
              "      async function convertToInteractive(key) {\n",
              "        const element = document.querySelector('#df-2c23829f-d89a-4fb7-8563-4599658b01aa');\n",
              "        const dataTable =\n",
              "          await google.colab.kernel.invokeFunction('convertToInteractive',\n",
              "                                                    [key], {});\n",
              "        if (!dataTable) return;\n",
              "\n",
              "        const docLinkHtml = 'Like what you see? Visit the ' +\n",
              "          '<a target=\"_blank\" href=https://colab.research.google.com/notebooks/data_table.ipynb>data table notebook</a>'\n",
              "          + ' to learn more about interactive tables.';\n",
              "        element.innerHTML = '';\n",
              "        dataTable['output_type'] = 'display_data';\n",
              "        await google.colab.output.renderOutput(dataTable, element);\n",
              "        const docLink = document.createElement('div');\n",
              "        docLink.innerHTML = docLinkHtml;\n",
              "        element.appendChild(docLink);\n",
              "      }\n",
              "    </script>\n",
              "  </div>\n",
              "\n",
              "\n",
              "<div id=\"df-017e6765-6850-4d79-b09d-1b0363d3e3f0\">\n",
              "  <button class=\"colab-df-quickchart\" onclick=\"quickchart('df-017e6765-6850-4d79-b09d-1b0363d3e3f0')\"\n",
              "            title=\"Suggest charts\"\n",
              "            style=\"display:none;\">\n",
              "\n",
              "<svg xmlns=\"http://www.w3.org/2000/svg\" height=\"24px\"viewBox=\"0 0 24 24\"\n",
              "     width=\"24px\">\n",
              "    <g>\n",
              "        <path d=\"M19 3H5c-1.1 0-2 .9-2 2v14c0 1.1.9 2 2 2h14c1.1 0 2-.9 2-2V5c0-1.1-.9-2-2-2zM9 17H7v-7h2v7zm4 0h-2V7h2v10zm4 0h-2v-4h2v4z\"/>\n",
              "    </g>\n",
              "</svg>\n",
              "  </button>\n",
              "\n",
              "<style>\n",
              "  .colab-df-quickchart {\n",
              "      --bg-color: #E8F0FE;\n",
              "      --fill-color: #1967D2;\n",
              "      --hover-bg-color: #E2EBFA;\n",
              "      --hover-fill-color: #174EA6;\n",
              "      --disabled-fill-color: #AAA;\n",
              "      --disabled-bg-color: #DDD;\n",
              "  }\n",
              "\n",
              "  [theme=dark] .colab-df-quickchart {\n",
              "      --bg-color: #3B4455;\n",
              "      --fill-color: #D2E3FC;\n",
              "      --hover-bg-color: #434B5C;\n",
              "      --hover-fill-color: #FFFFFF;\n",
              "      --disabled-bg-color: #3B4455;\n",
              "      --disabled-fill-color: #666;\n",
              "  }\n",
              "\n",
              "  .colab-df-quickchart {\n",
              "    background-color: var(--bg-color);\n",
              "    border: none;\n",
              "    border-radius: 50%;\n",
              "    cursor: pointer;\n",
              "    display: none;\n",
              "    fill: var(--fill-color);\n",
              "    height: 32px;\n",
              "    padding: 0;\n",
              "    width: 32px;\n",
              "  }\n",
              "\n",
              "  .colab-df-quickchart:hover {\n",
              "    background-color: var(--hover-bg-color);\n",
              "    box-shadow: 0 1px 2px rgba(60, 64, 67, 0.3), 0 1px 3px 1px rgba(60, 64, 67, 0.15);\n",
              "    fill: var(--button-hover-fill-color);\n",
              "  }\n",
              "\n",
              "  .colab-df-quickchart-complete:disabled,\n",
              "  .colab-df-quickchart-complete:disabled:hover {\n",
              "    background-color: var(--disabled-bg-color);\n",
              "    fill: var(--disabled-fill-color);\n",
              "    box-shadow: none;\n",
              "  }\n",
              "\n",
              "  .colab-df-spinner {\n",
              "    border: 2px solid var(--fill-color);\n",
              "    border-color: transparent;\n",
              "    border-bottom-color: var(--fill-color);\n",
              "    animation:\n",
              "      spin 1s steps(1) infinite;\n",
              "  }\n",
              "\n",
              "  @keyframes spin {\n",
              "    0% {\n",
              "      border-color: transparent;\n",
              "      border-bottom-color: var(--fill-color);\n",
              "      border-left-color: var(--fill-color);\n",
              "    }\n",
              "    20% {\n",
              "      border-color: transparent;\n",
              "      border-left-color: var(--fill-color);\n",
              "      border-top-color: var(--fill-color);\n",
              "    }\n",
              "    30% {\n",
              "      border-color: transparent;\n",
              "      border-left-color: var(--fill-color);\n",
              "      border-top-color: var(--fill-color);\n",
              "      border-right-color: var(--fill-color);\n",
              "    }\n",
              "    40% {\n",
              "      border-color: transparent;\n",
              "      border-right-color: var(--fill-color);\n",
              "      border-top-color: var(--fill-color);\n",
              "    }\n",
              "    60% {\n",
              "      border-color: transparent;\n",
              "      border-right-color: var(--fill-color);\n",
              "    }\n",
              "    80% {\n",
              "      border-color: transparent;\n",
              "      border-right-color: var(--fill-color);\n",
              "      border-bottom-color: var(--fill-color);\n",
              "    }\n",
              "    90% {\n",
              "      border-color: transparent;\n",
              "      border-bottom-color: var(--fill-color);\n",
              "    }\n",
              "  }\n",
              "</style>\n",
              "\n",
              "  <script>\n",
              "    async function quickchart(key) {\n",
              "      const quickchartButtonEl =\n",
              "        document.querySelector('#' + key + ' button');\n",
              "      quickchartButtonEl.disabled = true;  // To prevent multiple clicks.\n",
              "      quickchartButtonEl.classList.add('colab-df-spinner');\n",
              "      try {\n",
              "        const charts = await google.colab.kernel.invokeFunction(\n",
              "            'suggestCharts', [key], {});\n",
              "      } catch (error) {\n",
              "        console.error('Error during call to suggestCharts:', error);\n",
              "      }\n",
              "      quickchartButtonEl.classList.remove('colab-df-spinner');\n",
              "      quickchartButtonEl.classList.add('colab-df-quickchart-complete');\n",
              "    }\n",
              "    (() => {\n",
              "      let quickchartButtonEl =\n",
              "        document.querySelector('#df-017e6765-6850-4d79-b09d-1b0363d3e3f0 button');\n",
              "      quickchartButtonEl.style.display =\n",
              "        google.colab.kernel.accessAllowed ? 'block' : 'none';\n",
              "    })();\n",
              "  </script>\n",
              "</div>\n",
              "\n",
              "    </div>\n",
              "  </div>\n"
            ]
          },
          "metadata": {},
          "execution_count": 3
        }
      ],
      "source": [
        "df.head()"
      ]
    },
    {
      "cell_type": "code",
      "execution_count": 4,
      "id": "611a3665",
      "metadata": {
        "id": "611a3665",
        "outputId": "b640c38a-defe-4149-c218-f9bc07115c03",
        "colab": {
          "base_uri": "https://localhost:8080/"
        }
      },
      "outputs": [
        {
          "output_type": "execute_result",
          "data": {
            "text/plain": [
              "(3803, 23)"
            ]
          },
          "metadata": {},
          "execution_count": 4
        }
      ],
      "source": [
        "df.shape"
      ]
    },
    {
      "cell_type": "code",
      "execution_count": 5,
      "id": "82b8c41d",
      "metadata": {
        "id": "82b8c41d",
        "outputId": "9af03e52-184e-4973-fe89-c17bc3bd3d3b",
        "colab": {
          "base_uri": "https://localhost:8080/"
        }
      },
      "outputs": [
        {
          "output_type": "stream",
          "name": "stdout",
          "text": [
            "<class 'pandas.core.frame.DataFrame'>\n",
            "RangeIndex: 3803 entries, 0 to 3802\n",
            "Data columns (total 23 columns):\n",
            " #   Column               Non-Null Count  Dtype  \n",
            "---  ------               --------------  -----  \n",
            " 0   property_type        3803 non-null   object \n",
            " 1   society              3802 non-null   object \n",
            " 2   sector               3803 non-null   object \n",
            " 3   price                3785 non-null   float64\n",
            " 4   price_per_sqft       3785 non-null   float64\n",
            " 5   areaWithType         3803 non-null   object \n",
            " 6   bedRoom              3803 non-null   int64  \n",
            " 7   bathroom             3803 non-null   int64  \n",
            " 8   balcony              3803 non-null   object \n",
            " 9   floorNum             3784 non-null   float64\n",
            " 10  facing               2698 non-null   object \n",
            " 11  agePossession        3803 non-null   object \n",
            " 12  area                 3785 non-null   float64\n",
            " 13  super_built_up_area  1915 non-null   float64\n",
            " 14  built_up_area        1733 non-null   float64\n",
            " 15  carpet_area          1944 non-null   float64\n",
            " 16  study room           3803 non-null   int64  \n",
            " 17  servant room         3803 non-null   int64  \n",
            " 18  store room           3803 non-null   int64  \n",
            " 19  pooja room           3803 non-null   int64  \n",
            " 20  others               3803 non-null   int64  \n",
            " 21  furnishing_type      3803 non-null   int64  \n",
            " 22  luxury_score         3803 non-null   int64  \n",
            "dtypes: float64(7), int64(9), object(7)\n",
            "memory usage: 683.5+ KB\n"
          ]
        }
      ],
      "source": [
        "df.info()"
      ]
    },
    {
      "cell_type": "code",
      "execution_count": 6,
      "id": "7205eb3d",
      "metadata": {
        "id": "7205eb3d",
        "outputId": "7fdb289d-8196-42c4-ec85-3c691cdfa4b0",
        "colab": {
          "base_uri": "https://localhost:8080/"
        }
      },
      "outputs": [
        {
          "output_type": "execute_result",
          "data": {
            "text/plain": [
              "126"
            ]
          },
          "metadata": {},
          "execution_count": 6
        }
      ],
      "source": [
        "df.duplicated().sum()"
      ]
    },
    {
      "cell_type": "code",
      "execution_count": 7,
      "id": "5ff1b123",
      "metadata": {
        "id": "5ff1b123"
      },
      "outputs": [],
      "source": [
        "df.drop_duplicates(inplace=True)"
      ]
    },
    {
      "cell_type": "code",
      "execution_count": 8,
      "id": "2e7b8af3",
      "metadata": {
        "id": "2e7b8af3",
        "outputId": "8614f9e1-8396-471e-ba58-0d0517239297",
        "colab": {
          "base_uri": "https://localhost:8080/",
          "height": 533
        }
      },
      "outputs": [
        {
          "output_type": "execute_result",
          "data": {
            "text/plain": [
              "  property_type       society     sector  price  price_per_sqft  \\\n",
              "0          flat    chd avenue  sector 71   1.10          6790.0   \n",
              "1          flat  tulip violet  sector 69   3.10          9822.0   \n",
              "2         house   independent  sector 43   7.85         29074.0   \n",
              "3          flat    chd avenue  sector 71   0.98          6049.0   \n",
              "4          flat   m3m skywalk  sector 74   1.47         10954.0   \n",
              "\n",
              "                                        areaWithType  bedRoom  bathroom  \\\n",
              "0              Super Built up area 1620(150.5 sq.m.)        3         3   \n",
              "1  Super Built up area 3156(293.2 sq.m.)Carpet ar...        4         6   \n",
              "2                        Plot area 300(250.84 sq.m.)        9         9   \n",
              "3              Super Built up area 1620(150.5 sq.m.)        3         3   \n",
              "4             Super Built up area 1415(131.46 sq.m.)        2         2   \n",
              "\n",
              "  balcony  floorNum  ... super_built_up_area built_up_area  carpet_area  \\\n",
              "0       3      11.0  ...              1620.0           NaN          NaN   \n",
              "1      3+      14.0  ...              3156.0           NaN       2500.0   \n",
              "2      3+       3.0  ...                 NaN        2700.0          NaN   \n",
              "3       3       0.0  ...              1620.0           NaN          NaN   \n",
              "4       3      26.0  ...              1415.0           NaN          NaN   \n",
              "\n",
              "   study room  servant room  store room  pooja room  others  furnishing_type  \\\n",
              "0           0             0           0           0       1                0   \n",
              "1           0             1           0           1       0                0   \n",
              "2           1             1           0           1       1                1   \n",
              "3           1             0           0           0       0                0   \n",
              "4           0             0           0           0       0                2   \n",
              "\n",
              "   luxury_score  \n",
              "0            72  \n",
              "1           174  \n",
              "2            49  \n",
              "3            65  \n",
              "4            31  \n",
              "\n",
              "[5 rows x 23 columns]"
            ],
            "text/html": [
              "\n",
              "  <div id=\"df-b94f96ca-46e8-4e64-8e1f-9fc7469b7bf6\" class=\"colab-df-container\">\n",
              "    <div>\n",
              "<style scoped>\n",
              "    .dataframe tbody tr th:only-of-type {\n",
              "        vertical-align: middle;\n",
              "    }\n",
              "\n",
              "    .dataframe tbody tr th {\n",
              "        vertical-align: top;\n",
              "    }\n",
              "\n",
              "    .dataframe thead th {\n",
              "        text-align: right;\n",
              "    }\n",
              "</style>\n",
              "<table border=\"1\" class=\"dataframe\">\n",
              "  <thead>\n",
              "    <tr style=\"text-align: right;\">\n",
              "      <th></th>\n",
              "      <th>property_type</th>\n",
              "      <th>society</th>\n",
              "      <th>sector</th>\n",
              "      <th>price</th>\n",
              "      <th>price_per_sqft</th>\n",
              "      <th>areaWithType</th>\n",
              "      <th>bedRoom</th>\n",
              "      <th>bathroom</th>\n",
              "      <th>balcony</th>\n",
              "      <th>floorNum</th>\n",
              "      <th>...</th>\n",
              "      <th>super_built_up_area</th>\n",
              "      <th>built_up_area</th>\n",
              "      <th>carpet_area</th>\n",
              "      <th>study room</th>\n",
              "      <th>servant room</th>\n",
              "      <th>store room</th>\n",
              "      <th>pooja room</th>\n",
              "      <th>others</th>\n",
              "      <th>furnishing_type</th>\n",
              "      <th>luxury_score</th>\n",
              "    </tr>\n",
              "  </thead>\n",
              "  <tbody>\n",
              "    <tr>\n",
              "      <th>0</th>\n",
              "      <td>flat</td>\n",
              "      <td>chd avenue</td>\n",
              "      <td>sector 71</td>\n",
              "      <td>1.10</td>\n",
              "      <td>6790.0</td>\n",
              "      <td>Super Built up area 1620(150.5 sq.m.)</td>\n",
              "      <td>3</td>\n",
              "      <td>3</td>\n",
              "      <td>3</td>\n",
              "      <td>11.0</td>\n",
              "      <td>...</td>\n",
              "      <td>1620.0</td>\n",
              "      <td>NaN</td>\n",
              "      <td>NaN</td>\n",
              "      <td>0</td>\n",
              "      <td>0</td>\n",
              "      <td>0</td>\n",
              "      <td>0</td>\n",
              "      <td>1</td>\n",
              "      <td>0</td>\n",
              "      <td>72</td>\n",
              "    </tr>\n",
              "    <tr>\n",
              "      <th>1</th>\n",
              "      <td>flat</td>\n",
              "      <td>tulip violet</td>\n",
              "      <td>sector 69</td>\n",
              "      <td>3.10</td>\n",
              "      <td>9822.0</td>\n",
              "      <td>Super Built up area 3156(293.2 sq.m.)Carpet ar...</td>\n",
              "      <td>4</td>\n",
              "      <td>6</td>\n",
              "      <td>3+</td>\n",
              "      <td>14.0</td>\n",
              "      <td>...</td>\n",
              "      <td>3156.0</td>\n",
              "      <td>NaN</td>\n",
              "      <td>2500.0</td>\n",
              "      <td>0</td>\n",
              "      <td>1</td>\n",
              "      <td>0</td>\n",
              "      <td>1</td>\n",
              "      <td>0</td>\n",
              "      <td>0</td>\n",
              "      <td>174</td>\n",
              "    </tr>\n",
              "    <tr>\n",
              "      <th>2</th>\n",
              "      <td>house</td>\n",
              "      <td>independent</td>\n",
              "      <td>sector 43</td>\n",
              "      <td>7.85</td>\n",
              "      <td>29074.0</td>\n",
              "      <td>Plot area 300(250.84 sq.m.)</td>\n",
              "      <td>9</td>\n",
              "      <td>9</td>\n",
              "      <td>3+</td>\n",
              "      <td>3.0</td>\n",
              "      <td>...</td>\n",
              "      <td>NaN</td>\n",
              "      <td>2700.0</td>\n",
              "      <td>NaN</td>\n",
              "      <td>1</td>\n",
              "      <td>1</td>\n",
              "      <td>0</td>\n",
              "      <td>1</td>\n",
              "      <td>1</td>\n",
              "      <td>1</td>\n",
              "      <td>49</td>\n",
              "    </tr>\n",
              "    <tr>\n",
              "      <th>3</th>\n",
              "      <td>flat</td>\n",
              "      <td>chd avenue</td>\n",
              "      <td>sector 71</td>\n",
              "      <td>0.98</td>\n",
              "      <td>6049.0</td>\n",
              "      <td>Super Built up area 1620(150.5 sq.m.)</td>\n",
              "      <td>3</td>\n",
              "      <td>3</td>\n",
              "      <td>3</td>\n",
              "      <td>0.0</td>\n",
              "      <td>...</td>\n",
              "      <td>1620.0</td>\n",
              "      <td>NaN</td>\n",
              "      <td>NaN</td>\n",
              "      <td>1</td>\n",
              "      <td>0</td>\n",
              "      <td>0</td>\n",
              "      <td>0</td>\n",
              "      <td>0</td>\n",
              "      <td>0</td>\n",
              "      <td>65</td>\n",
              "    </tr>\n",
              "    <tr>\n",
              "      <th>4</th>\n",
              "      <td>flat</td>\n",
              "      <td>m3m skywalk</td>\n",
              "      <td>sector 74</td>\n",
              "      <td>1.47</td>\n",
              "      <td>10954.0</td>\n",
              "      <td>Super Built up area 1415(131.46 sq.m.)</td>\n",
              "      <td>2</td>\n",
              "      <td>2</td>\n",
              "      <td>3</td>\n",
              "      <td>26.0</td>\n",
              "      <td>...</td>\n",
              "      <td>1415.0</td>\n",
              "      <td>NaN</td>\n",
              "      <td>NaN</td>\n",
              "      <td>0</td>\n",
              "      <td>0</td>\n",
              "      <td>0</td>\n",
              "      <td>0</td>\n",
              "      <td>0</td>\n",
              "      <td>2</td>\n",
              "      <td>31</td>\n",
              "    </tr>\n",
              "  </tbody>\n",
              "</table>\n",
              "<p>5 rows × 23 columns</p>\n",
              "</div>\n",
              "    <div class=\"colab-df-buttons\">\n",
              "\n",
              "  <div class=\"colab-df-container\">\n",
              "    <button class=\"colab-df-convert\" onclick=\"convertToInteractive('df-b94f96ca-46e8-4e64-8e1f-9fc7469b7bf6')\"\n",
              "            title=\"Convert this dataframe to an interactive table.\"\n",
              "            style=\"display:none;\">\n",
              "\n",
              "  <svg xmlns=\"http://www.w3.org/2000/svg\" height=\"24px\" viewBox=\"0 -960 960 960\">\n",
              "    <path d=\"M120-120v-720h720v720H120Zm60-500h600v-160H180v160Zm220 220h160v-160H400v160Zm0 220h160v-160H400v160ZM180-400h160v-160H180v160Zm440 0h160v-160H620v160ZM180-180h160v-160H180v160Zm440 0h160v-160H620v160Z\"/>\n",
              "  </svg>\n",
              "    </button>\n",
              "\n",
              "  <style>\n",
              "    .colab-df-container {\n",
              "      display:flex;\n",
              "      gap: 12px;\n",
              "    }\n",
              "\n",
              "    .colab-df-convert {\n",
              "      background-color: #E8F0FE;\n",
              "      border: none;\n",
              "      border-radius: 50%;\n",
              "      cursor: pointer;\n",
              "      display: none;\n",
              "      fill: #1967D2;\n",
              "      height: 32px;\n",
              "      padding: 0 0 0 0;\n",
              "      width: 32px;\n",
              "    }\n",
              "\n",
              "    .colab-df-convert:hover {\n",
              "      background-color: #E2EBFA;\n",
              "      box-shadow: 0px 1px 2px rgba(60, 64, 67, 0.3), 0px 1px 3px 1px rgba(60, 64, 67, 0.15);\n",
              "      fill: #174EA6;\n",
              "    }\n",
              "\n",
              "    .colab-df-buttons div {\n",
              "      margin-bottom: 4px;\n",
              "    }\n",
              "\n",
              "    [theme=dark] .colab-df-convert {\n",
              "      background-color: #3B4455;\n",
              "      fill: #D2E3FC;\n",
              "    }\n",
              "\n",
              "    [theme=dark] .colab-df-convert:hover {\n",
              "      background-color: #434B5C;\n",
              "      box-shadow: 0px 1px 3px 1px rgba(0, 0, 0, 0.15);\n",
              "      filter: drop-shadow(0px 1px 2px rgba(0, 0, 0, 0.3));\n",
              "      fill: #FFFFFF;\n",
              "    }\n",
              "  </style>\n",
              "\n",
              "    <script>\n",
              "      const buttonEl =\n",
              "        document.querySelector('#df-b94f96ca-46e8-4e64-8e1f-9fc7469b7bf6 button.colab-df-convert');\n",
              "      buttonEl.style.display =\n",
              "        google.colab.kernel.accessAllowed ? 'block' : 'none';\n",
              "\n",
              "      async function convertToInteractive(key) {\n",
              "        const element = document.querySelector('#df-b94f96ca-46e8-4e64-8e1f-9fc7469b7bf6');\n",
              "        const dataTable =\n",
              "          await google.colab.kernel.invokeFunction('convertToInteractive',\n",
              "                                                    [key], {});\n",
              "        if (!dataTable) return;\n",
              "\n",
              "        const docLinkHtml = 'Like what you see? Visit the ' +\n",
              "          '<a target=\"_blank\" href=https://colab.research.google.com/notebooks/data_table.ipynb>data table notebook</a>'\n",
              "          + ' to learn more about interactive tables.';\n",
              "        element.innerHTML = '';\n",
              "        dataTable['output_type'] = 'display_data';\n",
              "        await google.colab.output.renderOutput(dataTable, element);\n",
              "        const docLink = document.createElement('div');\n",
              "        docLink.innerHTML = docLinkHtml;\n",
              "        element.appendChild(docLink);\n",
              "      }\n",
              "    </script>\n",
              "  </div>\n",
              "\n",
              "\n",
              "<div id=\"df-6b335c73-9ce2-4bda-b33b-24492b719eee\">\n",
              "  <button class=\"colab-df-quickchart\" onclick=\"quickchart('df-6b335c73-9ce2-4bda-b33b-24492b719eee')\"\n",
              "            title=\"Suggest charts\"\n",
              "            style=\"display:none;\">\n",
              "\n",
              "<svg xmlns=\"http://www.w3.org/2000/svg\" height=\"24px\"viewBox=\"0 0 24 24\"\n",
              "     width=\"24px\">\n",
              "    <g>\n",
              "        <path d=\"M19 3H5c-1.1 0-2 .9-2 2v14c0 1.1.9 2 2 2h14c1.1 0 2-.9 2-2V5c0-1.1-.9-2-2-2zM9 17H7v-7h2v7zm4 0h-2V7h2v10zm4 0h-2v-4h2v4z\"/>\n",
              "    </g>\n",
              "</svg>\n",
              "  </button>\n",
              "\n",
              "<style>\n",
              "  .colab-df-quickchart {\n",
              "      --bg-color: #E8F0FE;\n",
              "      --fill-color: #1967D2;\n",
              "      --hover-bg-color: #E2EBFA;\n",
              "      --hover-fill-color: #174EA6;\n",
              "      --disabled-fill-color: #AAA;\n",
              "      --disabled-bg-color: #DDD;\n",
              "  }\n",
              "\n",
              "  [theme=dark] .colab-df-quickchart {\n",
              "      --bg-color: #3B4455;\n",
              "      --fill-color: #D2E3FC;\n",
              "      --hover-bg-color: #434B5C;\n",
              "      --hover-fill-color: #FFFFFF;\n",
              "      --disabled-bg-color: #3B4455;\n",
              "      --disabled-fill-color: #666;\n",
              "  }\n",
              "\n",
              "  .colab-df-quickchart {\n",
              "    background-color: var(--bg-color);\n",
              "    border: none;\n",
              "    border-radius: 50%;\n",
              "    cursor: pointer;\n",
              "    display: none;\n",
              "    fill: var(--fill-color);\n",
              "    height: 32px;\n",
              "    padding: 0;\n",
              "    width: 32px;\n",
              "  }\n",
              "\n",
              "  .colab-df-quickchart:hover {\n",
              "    background-color: var(--hover-bg-color);\n",
              "    box-shadow: 0 1px 2px rgba(60, 64, 67, 0.3), 0 1px 3px 1px rgba(60, 64, 67, 0.15);\n",
              "    fill: var(--button-hover-fill-color);\n",
              "  }\n",
              "\n",
              "  .colab-df-quickchart-complete:disabled,\n",
              "  .colab-df-quickchart-complete:disabled:hover {\n",
              "    background-color: var(--disabled-bg-color);\n",
              "    fill: var(--disabled-fill-color);\n",
              "    box-shadow: none;\n",
              "  }\n",
              "\n",
              "  .colab-df-spinner {\n",
              "    border: 2px solid var(--fill-color);\n",
              "    border-color: transparent;\n",
              "    border-bottom-color: var(--fill-color);\n",
              "    animation:\n",
              "      spin 1s steps(1) infinite;\n",
              "  }\n",
              "\n",
              "  @keyframes spin {\n",
              "    0% {\n",
              "      border-color: transparent;\n",
              "      border-bottom-color: var(--fill-color);\n",
              "      border-left-color: var(--fill-color);\n",
              "    }\n",
              "    20% {\n",
              "      border-color: transparent;\n",
              "      border-left-color: var(--fill-color);\n",
              "      border-top-color: var(--fill-color);\n",
              "    }\n",
              "    30% {\n",
              "      border-color: transparent;\n",
              "      border-left-color: var(--fill-color);\n",
              "      border-top-color: var(--fill-color);\n",
              "      border-right-color: var(--fill-color);\n",
              "    }\n",
              "    40% {\n",
              "      border-color: transparent;\n",
              "      border-right-color: var(--fill-color);\n",
              "      border-top-color: var(--fill-color);\n",
              "    }\n",
              "    60% {\n",
              "      border-color: transparent;\n",
              "      border-right-color: var(--fill-color);\n",
              "    }\n",
              "    80% {\n",
              "      border-color: transparent;\n",
              "      border-right-color: var(--fill-color);\n",
              "      border-bottom-color: var(--fill-color);\n",
              "    }\n",
              "    90% {\n",
              "      border-color: transparent;\n",
              "      border-bottom-color: var(--fill-color);\n",
              "    }\n",
              "  }\n",
              "</style>\n",
              "\n",
              "  <script>\n",
              "    async function quickchart(key) {\n",
              "      const quickchartButtonEl =\n",
              "        document.querySelector('#' + key + ' button');\n",
              "      quickchartButtonEl.disabled = true;  // To prevent multiple clicks.\n",
              "      quickchartButtonEl.classList.add('colab-df-spinner');\n",
              "      try {\n",
              "        const charts = await google.colab.kernel.invokeFunction(\n",
              "            'suggestCharts', [key], {});\n",
              "      } catch (error) {\n",
              "        console.error('Error during call to suggestCharts:', error);\n",
              "      }\n",
              "      quickchartButtonEl.classList.remove('colab-df-spinner');\n",
              "      quickchartButtonEl.classList.add('colab-df-quickchart-complete');\n",
              "    }\n",
              "    (() => {\n",
              "      let quickchartButtonEl =\n",
              "        document.querySelector('#df-6b335c73-9ce2-4bda-b33b-24492b719eee button');\n",
              "      quickchartButtonEl.style.display =\n",
              "        google.colab.kernel.accessAllowed ? 'block' : 'none';\n",
              "    })();\n",
              "  </script>\n",
              "</div>\n",
              "\n",
              "    </div>\n",
              "  </div>\n"
            ]
          },
          "metadata": {},
          "execution_count": 8
        }
      ],
      "source": [
        "df.head()"
      ]
    },
    {
      "cell_type": "markdown",
      "id": "056eaf91",
      "metadata": {
        "id": "056eaf91"
      },
      "source": [
        "### property_type"
      ]
    },
    {
      "cell_type": "code",
      "execution_count": 9,
      "id": "88c9fe72",
      "metadata": {
        "id": "88c9fe72",
        "outputId": "fc182477-6ca4-4a06-ab3f-92d12f735376",
        "colab": {
          "base_uri": "https://localhost:8080/",
          "height": 474
        }
      },
      "outputs": [
        {
          "output_type": "execute_result",
          "data": {
            "text/plain": [
              "<Axes: >"
            ]
          },
          "metadata": {},
          "execution_count": 9
        },
        {
          "output_type": "display_data",
          "data": {
            "text/plain": [
              "<Figure size 640x480 with 1 Axes>"
            ],
            "image/png": "[encoded data removed]"
          },
          "metadata": {}
        }
      ],
      "source": [
        "df['property_type'].value_counts().plot(kind='bar',)"
      ]
    },
    {
      "cell_type": "markdown",
      "id": "e7bf41ed",
      "metadata": {
        "id": "e7bf41ed"
      },
      "source": [
        "#### Observations\n",
        "\n",
        "- Flats are in majority(75 percent) and there are less number of houses(~25 percent)\n",
        "- No missing values"
      ]
    },
    {
      "cell_type": "markdown",
      "id": "8cb9e092",
      "metadata": {
        "id": "8cb9e092"
      },
      "source": [
        "### society"
      ]
    },
    {
      "cell_type": "code",
      "execution_count": 10,
      "id": "8a51c475",
      "metadata": {
        "id": "8a51c475",
        "outputId": "b7a13692-e916-42a8-df51-473ff52e6632",
        "colab": {
          "base_uri": "https://localhost:8080/"
        }
      },
      "outputs": [
        {
          "output_type": "execute_result",
          "data": {
            "text/plain": [
              "(676,)"
            ]
          },
          "metadata": {},
          "execution_count": 10
        }
      ],
      "source": [
        "df['society'].value_counts().shape"
      ]
    },
    {
      "cell_type": "code",
      "execution_count": 11,
      "id": "d496d31f",
      "metadata": {
        "id": "d496d31f",
        "outputId": "69ac9e22-65df-4b1e-95ca-16f3c00f6b66",
        "colab": {
          "base_uri": "https://localhost:8080/"
        }
      },
      "outputs": [
        {
          "output_type": "execute_result",
          "data": {
            "text/plain": [
              "independent                             486\n",
              "tulip violet                             75\n",
              "ss the leaf                              73\n",
              "shapoorji pallonji joyville gurugram     42\n",
              "dlf new town heights                     42\n",
              "                                       ... \n",
              "nitin vihar                               1\n",
              "unitech harmony                           1\n",
              "apartment                                 1\n",
              "tashee capital gateway                    1\n",
              "dlf floors phase 3                        1\n",
              "Name: society, Length: 676, dtype: int64"
            ]
          },
          "metadata": {},
          "execution_count": 11
        }
      ],
      "source": [
        "df['society'].value_counts()"
      ]
    },
    {
      "cell_type": "code",
      "execution_count": 12,
      "id": "4e52cd44",
      "metadata": {
        "id": "4e52cd44",
        "outputId": "ba22487f-3557-4da6-9b4e-8796eb3495f0",
        "colab": {
          "base_uri": "https://localhost:8080/"
        }
      },
      "outputs": [
        {
          "output_type": "execute_result",
          "data": {
            "text/plain": [
              "tulip violet                            0.023511\n",
              "ss the leaf                             0.046395\n",
              "dlf new town heights                    0.059561\n",
              "shapoorji pallonji joyville gurugram    0.072727\n",
              "signature global park                   0.083699\n",
              "                                          ...   \n",
              "ansal heights 86                        0.490282\n",
              "indiabulls enigma                       0.494357\n",
              "the close north                         0.498433\n",
              "ireo the corridors                      0.502194\n",
              "central park flower valley              0.505956\n",
              "Name: society, Length: 75, dtype: float64"
            ]
          },
          "metadata": {},
          "execution_count": 12
        }
      ],
      "source": [
        "df[df['society'] != 'independent']['society'].value_counts(normalize=True).cumsum().head(75)"
      ]
    },
    {
      "cell_type": "code",
      "execution_count": 13,
      "id": "d68a149f",
      "metadata": {
        "id": "d68a149f",
        "outputId": "95d17a97-3b2e-4d6b-b137-12801013b52f",
        "colab": {
          "base_uri": "https://localhost:8080/"
        }
      },
      "outputs": [
        {
          "output_type": "execute_result",
          "data": {
            "text/plain": [
              "{'Very High (>100)': 1,\n",
              " 'High (50-100)': 2,\n",
              " 'Average (10-49)': 92,\n",
              " 'Low (2-9)': 273,\n",
              " 'Very Low (1)': 308}"
            ]
          },
          "metadata": {},
          "execution_count": 13
        }
      ],
      "source": [
        "society_counts = df['society'].value_counts()\n",
        "\n",
        "# Frequency distribution for societies\n",
        "frequency_bins = {\n",
        "    \"Very High (>100)\": (society_counts > 100).sum(),\n",
        "    \"High (50-100)\": ((society_counts >= 50) & (society_counts <= 100)).sum(),\n",
        "    \"Average (10-49)\": ((society_counts >= 10) & (society_counts < 50)).sum(),\n",
        "    \"Low (2-9)\": ((society_counts > 1) & (society_counts < 10)).sum(),\n",
        "    \"Very Low (1)\": (society_counts == 1).sum()\n",
        "}\n",
        "frequency_bins"
      ]
    },
    {
      "cell_type": "code",
      "execution_count": 14,
      "id": "0fbabda6",
      "metadata": {
        "id": "0fbabda6",
        "outputId": "d6bd14a7-c2ed-41e9-c098-347eb31bc005",
        "colab": {
          "base_uri": "https://localhost:8080/",
          "height": 678
        }
      },
      "outputs": [
        {
          "output_type": "execute_result",
          "data": {
            "text/plain": [
              "<Axes: >"
            ]
          },
          "metadata": {},
          "execution_count": 14
        },
        {
          "output_type": "display_data",
          "data": {
            "text/plain": [
              "<Figure size 640x480 with 1 Axes>"
            ],
            "image/png": "[encoded data removed]"
          },
          "metadata": {}
        }
      ],
      "source": [
        "# top 10 socities\n",
        "df[df['society'] != 'independent']['society'].value_counts().head(10).plot(kind='bar')"
      ]
    },
    {
      "cell_type": "code",
      "execution_count": 15,
      "id": "c4d00037",
      "metadata": {
        "id": "c4d00037",
        "outputId": "1ca67b3e-f44c-4dda-f62e-73eb5c7ac040",
        "colab": {
          "base_uri": "https://localhost:8080/"
        }
      },
      "outputs": [
        {
          "output_type": "execute_result",
          "data": {
            "text/plain": [
              "1"
            ]
          },
          "metadata": {},
          "execution_count": 15
        }
      ],
      "source": [
        "df['society'].isnull().sum()"
      ]
    },
    {
      "cell_type": "code",
      "execution_count": 16,
      "id": "6509b715",
      "metadata": {
        "id": "6509b715",
        "outputId": "7dd26869-5dcd-415e-a491-dc3f03f14c38",
        "colab": {
          "base_uri": "https://localhost:8080/",
          "height": 182
        }
      },
      "outputs": [
        {
          "output_type": "execute_result",
          "data": {
            "text/plain": [
              "     property_type society     sector  price  price_per_sqft  \\\n",
              "2677          flat     NaN  sector 78    0.6          3692.0   \n",
              "\n",
              "                            areaWithType  bedRoom  bathroom balcony  floorNum  \\\n",
              "2677  Built Up area: 1625 (150.97 sq.m.)        2         2       0       NaN   \n",
              "\n",
              "      ... super_built_up_area built_up_area  carpet_area  study room  \\\n",
              "2677  ...                 NaN        1625.0          NaN           0   \n",
              "\n",
              "      servant room  store room  pooja room  others  furnishing_type  \\\n",
              "2677             0           0           0       0                0   \n",
              "\n",
              "      luxury_score  \n",
              "2677             0  \n",
              "\n",
              "[1 rows x 23 columns]"
            ],
            "text/html": [
              "\n",
              "  <div id=\"df-9d10b40d-96e4-46d8-89d7-e723686101bd\" class=\"colab-df-container\">\n",
              "    <div>\n",
              "<style scoped>\n",
              "    .dataframe tbody tr th:only-of-type {\n",
              "        vertical-align: middle;\n",
              "    }\n",
              "\n",
              "    .dataframe tbody tr th {\n",
              "        vertical-align: top;\n",
              "    }\n",
              "\n",
              "    .dataframe thead th {\n",
              "        text-align: right;\n",
              "    }\n",
              "</style>\n",
              "<table border=\"1\" class=\"dataframe\">\n",
              "  <thead>\n",
              "    <tr style=\"text-align: right;\">\n",
              "      <th></th>\n",
              "      <th>property_type</th>\n",
              "      <th>society</th>\n",
              "      <th>sector</th>\n",
              "      <th>price</th>\n",
              "      <th>price_per_sqft</th>\n",
              "      <th>areaWithType</th>\n",
              "      <th>bedRoom</th>\n",
              "      <th>bathroom</th>\n",
              "      <th>balcony</th>\n",
              "      <th>floorNum</th>\n",
              "      <th>...</th>\n",
              "      <th>super_built_up_area</th>\n",
              "      <th>built_up_area</th>\n",
              "      <th>carpet_area</th>\n",
              "      <th>study room</th>\n",
              "      <th>servant room</th>\n",
              "      <th>store room</th>\n",
              "      <th>pooja room</th>\n",
              "      <th>others</th>\n",
              "      <th>furnishing_type</th>\n",
              "      <th>luxury_score</th>\n",
              "    </tr>\n",
              "  </thead>\n",
              "  <tbody>\n",
              "    <tr>\n",
              "      <th>2677</th>\n",
              "      <td>flat</td>\n",
              "      <td>NaN</td>\n",
              "      <td>sector 78</td>\n",
              "      <td>0.6</td>\n",
              "      <td>3692.0</td>\n",
              "      <td>Built Up area: 1625 (150.97 sq.m.)</td>\n",
              "      <td>2</td>\n",
              "      <td>2</td>\n",
              "      <td>0</td>\n",
              "      <td>NaN</td>\n",
              "      <td>...</td>\n",
              "      <td>NaN</td>\n",
              "      <td>1625.0</td>\n",
              "      <td>NaN</td>\n",
              "      <td>0</td>\n",
              "      <td>0</td>\n",
              "      <td>0</td>\n",
              "      <td>0</td>\n",
              "      <td>0</td>\n",
              "      <td>0</td>\n",
              "      <td>0</td>\n",
              "    </tr>\n",
              "  </tbody>\n",
              "</table>\n",
              "<p>1 rows × 23 columns</p>\n",
              "</div>\n",
              "    <div class=\"colab-df-buttons\">\n",
              "\n",
              "  <div class=\"colab-df-container\">\n",
              "    <button class=\"colab-df-convert\" onclick=\"convertToInteractive('df-9d10b40d-96e4-46d8-89d7-e723686101bd')\"\n",
              "            title=\"Convert this dataframe to an interactive table.\"\n",
              "            style=\"display:none;\">\n",
              "\n",
              "  <svg xmlns=\"http://www.w3.org/2000/svg\" height=\"24px\" viewBox=\"0 -960 960 960\">\n",
              "    <path d=\"M120-120v-720h720v720H120Zm60-500h600v-160H180v160Zm220 220h160v-160H400v160Zm0 220h160v-160H400v160ZM180-400h160v-160H180v160Zm440 0h160v-160H620v160ZM180-180h160v-160H180v160Zm440 0h160v-160H620v160Z\"/>\n",
              "  </svg>\n",
              "    </button>\n",
              "\n",
              "  <style>\n",
              "    .colab-df-container {\n",
              "      display:flex;\n",
              "      gap: 12px;\n",
              "    }\n",
              "\n",
              "    .colab-df-convert {\n",
              "      background-color: #E8F0FE;\n",
              "      border: none;\n",
              "      border-radius: 50%;\n",
              "      cursor: pointer;\n",
              "      display: none;\n",
              "      fill: #1967D2;\n",
              "      height: 32px;\n",
              "      padding: 0 0 0 0;\n",
              "      width: 32px;\n",
              "    }\n",
              "\n",
              "    .colab-df-convert:hover {\n",
              "      background-color: #E2EBFA;\n",
              "      box-shadow: 0px 1px 2px rgba(60, 64, 67, 0.3), 0px 1px 3px 1px rgba(60, 64, 67, 0.15);\n",
              "      fill: #174EA6;\n",
              "    }\n",
              "\n",
              "    .colab-df-buttons div {\n",
              "      margin-bottom: 4px;\n",
              "    }\n",
              "\n",
              "    [theme=dark] .colab-df-convert {\n",
              "      background-color: #3B4455;\n",
              "      fill: #D2E3FC;\n",
              "    }\n",
              "\n",
              "    [theme=dark] .colab-df-convert:hover {\n",
              "      background-color: #434B5C;\n",
              "      box-shadow: 0px 1px 3px 1px rgba(0, 0, 0, 0.15);\n",
              "      filter: drop-shadow(0px 1px 2px rgba(0, 0, 0, 0.3));\n",
              "      fill: #FFFFFF;\n",
              "    }\n",
              "  </style>\n",
              "\n",
              "    <script>\n",
              "      const buttonEl =\n",
              "        document.querySelector('#df-9d10b40d-96e4-46d8-89d7-e723686101bd button.colab-df-convert');\n",
              "      buttonEl.style.display =\n",
              "        google.colab.kernel.accessAllowed ? 'block' : 'none';\n",
              "\n",
              "      async function convertToInteractive(key) {\n",
              "        const element = document.querySelector('#df-9d10b40d-96e4-46d8-89d7-e723686101bd');\n",
              "        const dataTable =\n",
              "          await google.colab.kernel.invokeFunction('convertToInteractive',\n",
              "                                                    [key], {});\n",
              "        if (!dataTable) return;\n",
              "\n",
              "        const docLinkHtml = 'Like what you see? Visit the ' +\n",
              "          '<a target=\"_blank\" href=https://colab.research.google.com/notebooks/data_table.ipynb>data table notebook</a>'\n",
              "          + ' to learn more about interactive tables.';\n",
              "        element.innerHTML = '';\n",
              "        dataTable['output_type'] = 'display_data';\n",
              "        await google.colab.output.renderOutput(dataTable, element);\n",
              "        const docLink = document.createElement('div');\n",
              "        docLink.innerHTML = docLinkHtml;\n",
              "        element.appendChild(docLink);\n",
              "      }\n",
              "    </script>\n",
              "  </div>\n",
              "\n",
              "\n",
              "    </div>\n",
              "  </div>\n"
            ]
          },
          "metadata": {},
          "execution_count": 16
        }
      ],
      "source": [
        "df[df['society'].isnull()]"
      ]
    },
    {
      "cell_type": "markdown",
      "id": "b240feb1",
      "metadata": {
        "id": "b240feb1"
      },
      "source": [
        "#### Observations\n",
        "\n",
        "- Around 13% properties comes under independent tag.\n",
        "- There are 675 societies.\n",
        "- The top 75 societies have 50 percent of the preperties and the rest 50 percent of the properties come under the remaining 600 societies\n",
        "    - Very High (>100): Only 1 society has more than 100 listings.\n",
        "    - High (50-100): 2 societies have between 50 to 100 listings.\n",
        "    - Average (10-49): 92 societies fall in this range with 10 to 49 listings each.\n",
        "    - Low (2-9): 273 societies have between 2 to 9 listings.\n",
        "    - Very Low (1): A significant number, 308 societies, have only 1 listing.\n",
        "- 1 missing value"
      ]
    },
    {
      "cell_type": "markdown",
      "id": "2cf823d5",
      "metadata": {
        "id": "2cf823d5"
      },
      "source": [
        "### sector"
      ]
    },
    {
      "cell_type": "code",
      "execution_count": 17,
      "id": "9490f061",
      "metadata": {
        "id": "9490f061",
        "outputId": "f6e30ca0-f524-4795-db1d-c3eea4a35016",
        "colab": {
          "base_uri": "https://localhost:8080/"
        }
      },
      "outputs": [
        {
          "output_type": "execute_result",
          "data": {
            "text/plain": [
              "(115,)"
            ]
          },
          "metadata": {},
          "execution_count": 17
        }
      ],
      "source": [
        "# unique sectors\n",
        "df['sector'].value_counts().shape"
      ]
    },
    {
      "cell_type": "code",
      "execution_count": 18,
      "id": "f0c46677",
      "metadata": {
        "id": "f0c46677",
        "outputId": "f20a0460-5a85-4b92-c189-12b7414af086",
        "colab": {
          "base_uri": "https://localhost:8080/",
          "height": 512
        }
      },
      "outputs": [
        {
          "output_type": "execute_result",
          "data": {
            "text/plain": [
              "<Axes: >"
            ]
          },
          "metadata": {},
          "execution_count": 18
        },
        {
          "output_type": "display_data",
          "data": {
            "text/plain": [
              "<Figure size 640x480 with 1 Axes>"
            ],
            "image/png": "[encoded data removed]"
          },
          "metadata": {}
        }
      ],
      "source": [
        "# top 10 sectors\n",
        "df['sector'].value_counts().head(10).plot(kind='bar')"
      ]
    },
    {
      "cell_type": "code",
      "execution_count": 19,
      "id": "227b69cc",
      "metadata": {
        "id": "227b69cc",
        "outputId": "1996aee9-93b4-47c0-8d60-b31b7b2f7f0d",
        "colab": {
          "base_uri": "https://localhost:8080/"
        }
      },
      "outputs": [
        {
          "output_type": "execute_result",
          "data": {
            "text/plain": [
              "{'Very High (>100)': 3,\n",
              " 'High (50-100)': 25,\n",
              " 'Average (10-49)': 63,\n",
              " 'Low (2-9)': 23,\n",
              " 'Very Low (1)': 1}"
            ]
          },
          "metadata": {},
          "execution_count": 19
        }
      ],
      "source": [
        "# Frequency distribution for sectors\n",
        "sector_counts = df['sector'].value_counts()\n",
        "\n",
        "sector_frequency_bins = {\n",
        "    \"Very High (>100)\": (sector_counts > 100).sum(),\n",
        "    \"High (50-100)\": ((sector_counts >= 50) & (sector_counts <= 100)).sum(),\n",
        "    \"Average (10-49)\": ((sector_counts >= 10) & (sector_counts < 50)).sum(),\n",
        "    \"Low (2-9)\": ((sector_counts > 1) & (sector_counts < 10)).sum(),\n",
        "    \"Very Low (1)\": (sector_counts == 1).sum()\n",
        "}\n",
        "\n",
        "sector_frequency_bins"
      ]
    },
    {
      "cell_type": "markdown",
      "id": "9fc2b96e",
      "metadata": {
        "id": "9fc2b96e"
      },
      "source": [
        "#### Observations\n",
        "\n",
        "- There are a total of 104 unique sectors in the dataset.\n",
        "- Frequency distribution of sectors:\n",
        "    - Very High (>100): 3 sectors have more than 100 listings.\n",
        "    - High (50-100): 25 sectors have between 50 to 100 listings.\n",
        "    - Average (10-49): A majority, 60 sectors, fall in this range with 10 to 49 listings each.\n",
        "    - Low (2-9): 16 sectors have between 2 to 9 listings.\n",
        "    - Very Low (1): Interestingly, there are no sectors with only 1 listing."
      ]
    },
    {
      "cell_type": "markdown",
      "id": "ebc6c66a",
      "metadata": {
        "id": "ebc6c66a"
      },
      "source": [
        "### Price"
      ]
    },
    {
      "cell_type": "code",
      "execution_count": 20,
      "id": "ed008885",
      "metadata": {
        "id": "ed008885",
        "outputId": "b0a9c7c7-c488-4371-8c95-7cc977280591",
        "colab": {
          "base_uri": "https://localhost:8080/"
        }
      },
      "outputs": [
        {
          "output_type": "execute_result",
          "data": {
            "text/plain": [
              "17"
            ]
          },
          "metadata": {},
          "execution_count": 20
        }
      ],
      "source": [
        "df['price'].isnull().sum()"
      ]
    },
    {
      "cell_type": "code",
      "execution_count": 21,
      "id": "21041d71",
      "metadata": {
        "id": "21041d71",
        "outputId": "d56c3835-1d5d-489d-c3ea-a26a2beb124a",
        "colab": {
          "base_uri": "https://localhost:8080/"
        }
      },
      "outputs": [
        {
          "output_type": "execute_result",
          "data": {
            "text/plain": [
              "count    3660.000000\n",
              "mean        2.533664\n",
              "std         2.980623\n",
              "min         0.070000\n",
              "25%         0.950000\n",
              "50%         1.520000\n",
              "75%         2.750000\n",
              "max        31.500000\n",
              "Name: price, dtype: float64"
            ]
          },
          "metadata": {},
          "execution_count": 21
        }
      ],
      "source": [
        "df['price'].describe()"
      ]
    },
    {
      "cell_type": "code",
      "execution_count": 22,
      "id": "dcd16341",
      "metadata": {
        "id": "dcd16341",
        "outputId": "e6349b75-f96e-4a14-ecb0-64c14ecaf01e",
        "colab": {
          "base_uri": "https://localhost:8080/",
          "height": 466
        }
      },
      "outputs": [
        {
          "output_type": "execute_result",
          "data": {
            "text/plain": [
              "<Axes: xlabel='price', ylabel='Count'>"
            ]
          },
          "metadata": {},
          "execution_count": 22
        },
        {
          "output_type": "display_data",
          "data": {
            "text/plain": [
              "<Figure size 640x480 with 1 Axes>"
            ],
            "image/png": "[encoded data removed]"
          },
          "metadata": {}
        }
      ],
      "source": [
        "sns.histplot(df['price'], kde=True, bins=50)"
      ]
    },
    {
      "cell_type": "code",
      "execution_count": 23,
      "id": "bc7ea5c8",
      "metadata": {
        "id": "bc7ea5c8",
        "outputId": "fc1e0ad9-5cb0-4e36-aac3-459af12e9708",
        "colab": {
          "base_uri": "https://localhost:8080/",
          "height": 449
        }
      },
      "outputs": [
        {
          "output_type": "display_data",
          "data": {
            "text/plain": [
              "<Figure size 640x480 with 1 Axes>"
            ],
            "image/png": "[encoded data removed]"
          },
          "metadata": {}
        }
      ],
      "source": [
        "sns.boxplot(x=df['price'], color='lightgreen')\n",
        "plt.grid()"
      ]
    },
    {
      "cell_type": "markdown",
      "id": "5f910d8f",
      "metadata": {
        "id": "5f910d8f"
      },
      "source": [
        "- Descriptive Statistics:\n",
        "\n",
        "    - Count: There are 3,660 non-missing price entries.\n",
        "    - Mean Price: The average price is approximately 2.53 crores.\n",
        "    - Median Price: The median (or 50th percentile) price is 1.52 crores.\n",
        "    - Standard Deviation: The prices have a standard deviation of 2.98, indicating variability in the prices.\n",
        "    - Range: Prices range from a minimum of 0.07 crores to a maximum of 31.5 crores.\n",
        "    - IQR: The interquartile range (difference between 75th and 25th percentile) is from 0.95 crores to 2.75 crores.\n",
        "\n",
        "\n",
        "- Visualizations:\n",
        "\n",
        "    - Distribution: The histogram indicates that most properties are priced in the lower range (below 5 crores), with a few properties going beyond 10 crores.\n",
        "    - Box Plot: The box plot showcases the spread of the data and potential outliers. Properties priced above approximately 10 crores might be considered outliers as they lie beyond the upper whisker of the box plot.\n",
        "\n",
        "\n",
        "- Missing Values: There are 17 missing values in the price column."
      ]
    },
    {
      "cell_type": "code",
      "execution_count": 24,
      "id": "a769c5f8",
      "metadata": {
        "id": "a769c5f8",
        "outputId": "157bc71e-fd4b-4d75-f3af-e2b3788092c8",
        "colab": {
          "base_uri": "https://localhost:8080/"
        }
      },
      "outputs": [
        {
          "output_type": "stream",
          "name": "stdout",
          "text": [
            "3.2791704733134623 14.933372629214254\n"
          ]
        }
      ],
      "source": [
        "# Skewness and Kurtosis\n",
        "skewness = df['price'].skew()\n",
        "kurtosis = df['price'].kurt()\n",
        "\n",
        "print(skewness,kurtosis)"
      ]
    },
    {
      "cell_type": "markdown",
      "id": "77c35665",
      "metadata": {
        "id": "77c35665"
      },
      "source": [
        "**Skewness**: The price distribution has a skewness of approximately 3.28, indicating a positive skew. This means that the distribution tail is skewed to the right, which aligns with our observation from the histogram where most properties have prices on the lower end with a few high-priced properties.\n",
        "\n",
        "**Kurtosis**: The kurtosis value is approximately 14.93. A kurtosis value greater than 3 indicates a distribution with heavier tails and more outliers compared to a normal distribution."
      ]
    },
    {
      "cell_type": "code",
      "execution_count": 25,
      "id": "dd7cca36",
      "metadata": {
        "id": "dd7cca36",
        "outputId": "f1fcd9c1-c2f4-4a05-8597-50736080d43c",
        "colab": {
          "base_uri": "https://localhost:8080/"
        }
      },
      "outputs": [
        {
          "output_type": "execute_result",
          "data": {
            "text/plain": [
              "0.01     0.250\n",
              "0.05     0.370\n",
              "0.95     8.500\n",
              "0.99    15.264\n",
              "Name: price, dtype: float64"
            ]
          },
          "metadata": {},
          "execution_count": 25
        }
      ],
      "source": [
        "# Quantile Analysis\n",
        "quantiles = df['price'].quantile([0.01, 0.05, 0.95, 0.99])\n",
        "\n",
        "quantiles"
      ]
    },
    {
      "cell_type": "markdown",
      "id": "a5ec3767",
      "metadata": {
        "id": "a5ec3767"
      },
      "source": [
        "Quantile Analysis:\n",
        "\n",
        "- 1% Quantile: Only 1% of properties are priced below 0.25 crores.\n",
        "- 5% Quantile: 5% of properties are priced below 0.37 crores.\n",
        "- 95% Quantile: 95% of properties are priced below 8.5 crores.\n",
        "- 99% Quantile: 99% of properties are priced below 15.26 crores, indicating that very few properties are priced above this value."
      ]
    },
    {
      "cell_type": "code",
      "execution_count": 26,
      "id": "c9b659c2",
      "metadata": {
        "id": "c9b659c2",
        "outputId": "cdb03933-9f63-4ff3-f227-8452225caae2",
        "colab": {
          "base_uri": "https://localhost:8080/"
        }
      },
      "outputs": [
        {
          "output_type": "execute_result",
          "data": {
            "text/plain": [
              "1.8"
            ]
          },
          "metadata": {},
          "execution_count": 26
        }
      ],
      "source": [
        "# Identify potential outliers using IQR method\n",
        "Q1 = df['price'].describe()['25%']\n",
        "Q3 = df['price'].describe()['75%']\n",
        "IQR = Q3 - Q1\n",
        "\n",
        "IQR"
      ]
    },
    {
      "cell_type": "code",
      "execution_count": 27,
      "id": "0e06931b",
      "metadata": {
        "id": "0e06931b",
        "outputId": "564eac99-0121-40f4-a0e9-c57b8c96af54",
        "colab": {
          "base_uri": "https://localhost:8080/"
        }
      },
      "outputs": [
        {
          "output_type": "stream",
          "name": "stdout",
          "text": [
            "-1.7500000000000002 5.45\n"
          ]
        }
      ],
      "source": [
        "lower_bound = Q1 - 1.5 * IQR\n",
        "upper_bound = Q3 + 1.5 * IQR\n",
        "\n",
        "print(lower_bound, upper_bound)"
      ]
    },
    {
      "cell_type": "code",
      "execution_count": 28,
      "id": "1b6b09fa",
      "metadata": {
        "id": "1b6b09fa",
        "outputId": "e45f3787-cb78-46ec-9137-084ae550e185",
        "colab": {
          "base_uri": "https://localhost:8080/"
        }
      },
      "outputs": [
        {
          "output_type": "execute_result",
          "data": {
            "text/plain": [
              "(425, 23)"
            ]
          },
          "metadata": {},
          "execution_count": 28
        }
      ],
      "source": [
        "outliers = df[(df['price'] < lower_bound) | (df['price'] > upper_bound)]\n",
        "outliers.shape"
      ]
    },
    {
      "cell_type": "code",
      "execution_count": 29,
      "id": "81eb93a2",
      "metadata": {
        "id": "81eb93a2",
        "outputId": "5ffa1ae3-9930-4d8e-c1ed-00c7ba2c3d99",
        "colab": {
          "base_uri": "https://localhost:8080/"
        }
      },
      "outputs": [
        {
          "output_type": "execute_result",
          "data": {
            "text/plain": [
              "count    425.000000\n",
              "mean       9.235624\n",
              "std        4.065259\n",
              "min        5.460000\n",
              "25%        6.460000\n",
              "50%        8.000000\n",
              "75%       10.750000\n",
              "max       31.500000\n",
              "Name: price, dtype: float64"
            ]
          },
          "metadata": {},
          "execution_count": 29
        }
      ],
      "source": [
        "outliers['price'].describe()"
      ]
    },
    {
      "cell_type": "markdown",
      "id": "33ae240e",
      "metadata": {
        "id": "33ae240e"
      },
      "source": [
        "Outliers Analysis (using IQR method):\n",
        "\n",
        "- Based on the IQR method, there are 425 properties considered as outliers.\n",
        "- These outliers have an average price of approximately 9.24 crores.\n",
        "- The range for these outliers is from 5.46 crores to 31.5 crores."
      ]
    },
    {
      "cell_type": "code",
      "execution_count": 30,
      "id": "da192879",
      "metadata": {
        "id": "da192879",
        "outputId": "d2418ee3-8794-44a1-869c-aa8034439e2d",
        "colab": {
          "base_uri": "https://localhost:8080/",
          "height": 473
        }
      },
      "outputs": [
        {
          "output_type": "execute_result",
          "data": {
            "text/plain": [
              "<Axes: >"
            ]
          },
          "metadata": {},
          "execution_count": 30
        },
        {
          "output_type": "display_data",
          "data": {
            "text/plain": [
              "<Figure size 640x480 with 1 Axes>"
            ],
            "image/png": "[encoded data removed]"
          },
          "metadata": {}
        }
      ],
      "source": [
        "# price binning\n",
        "bins = [0, 1, 2, 3, 5, 10, 20, 50]\n",
        "bin_labels = [\"0-1\", \"1-2\", \"2-3\", \"3-5\", \"5-10\", \"10-20\", \"20-50\"]\n",
        "pd.cut(df['price'], bins=bins, labels=bin_labels, right=False).value_counts().sort_index().plot(kind='bar')"
      ]
    },
    {
      "cell_type": "markdown",
      "id": "b6cbcac3",
      "metadata": {
        "id": "b6cbcac3"
      },
      "source": [
        "- The majority of properties are priced in the \"1-2 crores\" and \"2-3 crores\" ranges.\n",
        "- There's a significant drop in the number of properties priced above \"5 crores.\""
      ]
    },
    {
      "cell_type": "code",
      "execution_count": 31,
      "id": "3273f0a4",
      "metadata": {
        "id": "3273f0a4",
        "outputId": "037f808d-a556-415d-eebf-1d3965358006",
        "colab": {
          "base_uri": "https://localhost:8080/",
          "height": 430
        }
      },
      "outputs": [
        {
          "output_type": "display_data",
          "data": {
            "text/plain": [
              "<Figure size 640x480 with 1 Axes>"
            ],
            "image/png": "[encoded data removed]"
          },
          "metadata": {}
        }
      ],
      "source": [
        "# ecdf plot\n",
        "ecdf = df['price'].value_counts().sort_index().cumsum() / len(df['price'])\n",
        "plt.plot(ecdf.index, ecdf, marker='.', linestyle='none')\n",
        "plt.grid()"
      ]
    },
    {
      "cell_type": "code",
      "execution_count": 32,
      "id": "48b52bfb",
      "metadata": {
        "id": "48b52bfb",
        "outputId": "4d9fb76a-9d4c-4c93-b01b-5c8d62d81c4a",
        "colab": {
          "base_uri": "https://localhost:8080/",
          "height": 606
        }
      },
      "outputs": [
        {
          "output_type": "display_data",
          "data": {
            "text/plain": [
              "<Figure size 1500x600 with 2 Axes>"
            ],
            "image/png": "[encoded data removed]"
          },
          "metadata": {}
        }
      ],
      "source": [
        "plt.figure(figsize=(15, 6))\n",
        "\n",
        "# Distribution plot without log transformation\n",
        "plt.subplot(1, 2, 1)\n",
        "sns.histplot(df['price'], kde=True, bins=50, color='skyblue')\n",
        "plt.title('Distribution of Prices (Original)')\n",
        "plt.xlabel('Price (in Crores)')\n",
        "plt.ylabel('Frequency')\n",
        "\n",
        "# Distribution plot with log transformation\n",
        "plt.subplot(1, 2, 2)\n",
        "sns.histplot(np.log1p(df['price']), kde=True, bins=50, color='lightgreen')\n",
        "plt.title('Distribution of Prices (Log Transformed)')\n",
        "plt.xlabel('Log(Price)')\n",
        "plt.ylabel('Frequency')\n",
        "\n",
        "plt.tight_layout()\n",
        "plt.show()"
      ]
    },
    {
      "cell_type": "markdown",
      "id": "1c7e7e35",
      "metadata": {
        "id": "1c7e7e35"
      },
      "source": [
        "np.log1p(x): This function computes the natural logarithm of 1+x.\n",
        "It's designed to provide more accurate results for values of x that are very close to zero.\n",
        "\n",
        "Using np.log1p helps in transforming the price column while ensuring that any value (including zero, if present) is handled appropriately. When we need to reverse the transformation, we can use np.expm1 which computes e^x-1"
      ]
    },
    {
      "cell_type": "code",
      "execution_count": 33,
      "id": "7ef29268",
      "metadata": {
        "id": "7ef29268",
        "outputId": "a4614e20-b2ee-4e86-c566-8bba6d6f9eed",
        "colab": {
          "base_uri": "https://localhost:8080/"
        }
      },
      "outputs": [
        {
          "output_type": "stream",
          "name": "stdout",
          "text": [
            "1.0740709565255315 0.9646692415449265\n"
          ]
        }
      ],
      "source": [
        "skewness = np.log1p(df['price']).skew()\n",
        "kurtosis = np.log1p(df['price']).kurt()\n",
        "\n",
        "print(skewness,kurtosis)"
      ]
    },
    {
      "cell_type": "code",
      "execution_count": 34,
      "id": "a48210af",
      "metadata": {
        "id": "a48210af",
        "outputId": "6d871340-c766-42d9-8139-757b7aa4295b",
        "colab": {
          "base_uri": "https://localhost:8080/",
          "height": 606
        }
      },
      "outputs": [
        {
          "output_type": "display_data",
          "data": {
            "text/plain": [
              "<Figure size 1500x600 with 2 Axes>"
            ],
            "image/png": "[encoded data removed]"
          },
          "metadata": {}
        }
      ],
      "source": [
        "plt.figure(figsize=(15, 6))\n",
        "\n",
        "# Distribution plot without log transformation\n",
        "plt.subplot(1, 2, 1)\n",
        "sns.boxplot(df['price'], color='skyblue')\n",
        "plt.title('Distribution of Prices (Original)')\n",
        "plt.xlabel('Price (in Crores)')\n",
        "plt.ylabel('Frequency')\n",
        "\n",
        "# Distribution plot with log transformation\n",
        "plt.subplot(1, 2, 2)\n",
        "sns.boxplot(np.log1p(df['price']), color='lightgreen')\n",
        "plt.title('Distribution of Prices (Log Transformed)')\n",
        "plt.xlabel('Log(Price)')\n",
        "plt.ylabel('Frequency')\n",
        "\n",
        "plt.tight_layout()\n",
        "plt.show()"
      ]
    },
    {
      "cell_type": "markdown",
      "id": "79b6e90d",
      "metadata": {
        "id": "79b6e90d"
      },
      "source": [
        "### price_per_sqft"
      ]
    },
    {
      "cell_type": "code",
      "execution_count": 35,
      "id": "61815722",
      "metadata": {
        "id": "61815722",
        "outputId": "dbf7ea39-59b6-436f-85c4-79fb46d9e037",
        "colab": {
          "base_uri": "https://localhost:8080/"
        }
      },
      "outputs": [
        {
          "output_type": "execute_result",
          "data": {
            "text/plain": [
              "17"
            ]
          },
          "metadata": {},
          "execution_count": 35
        }
      ],
      "source": [
        "df['price_per_sqft'].isnull().sum()"
      ]
    },
    {
      "cell_type": "code",
      "execution_count": 36,
      "id": "4a673f44",
      "metadata": {
        "id": "4a673f44",
        "outputId": "313324dd-3ae4-4d23-e779-dc8c834c7b04",
        "colab": {
          "base_uri": "https://localhost:8080/"
        }
      },
      "outputs": [
        {
          "output_type": "execute_result",
          "data": {
            "text/plain": [
              "count      3660.000000\n",
              "mean      13892.668306\n",
              "std       23210.067190\n",
              "min           4.000000\n",
              "25%        6817.250000\n",
              "50%        9020.000000\n",
              "75%       13880.500000\n",
              "max      600000.000000\n",
              "Name: price_per_sqft, dtype: float64"
            ]
          },
          "metadata": {},
          "execution_count": 36
        }
      ],
      "source": [
        "df['price_per_sqft'].describe()"
      ]
    },
    {
      "cell_type": "code",
      "execution_count": 37,
      "id": "11494fb9",
      "metadata": {
        "id": "11494fb9",
        "outputId": "dd9ce7c3-843b-41cc-dc5a-742a13f85ac2",
        "colab": {
          "base_uri": "https://localhost:8080/",
          "height": 467
        }
      },
      "outputs": [
        {
          "output_type": "execute_result",
          "data": {
            "text/plain": [
              "<Axes: xlabel='price_per_sqft', ylabel='Count'>"
            ]
          },
          "metadata": {},
          "execution_count": 37
        },
        {
          "output_type": "display_data",
          "data": {
            "text/plain": [
              "<Figure size 640x480 with 1 Axes>"
            ],
            "image/png": "[encoded data removed]"
          },
          "metadata": {}
        }
      ],
      "source": [
        "sns.histplot(df['price_per_sqft'], bins=50, color='skyblue', kde=True)"
      ]
    },
    {
      "cell_type": "markdown",
      "id": "097b73bf",
      "metadata": {
        "id": "097b73bf"
      },
      "source": [
        "Most properties have a price_per_sqft ranging between approximately ₹0 and ₹40,000. There is a significant concentration in the lower range, with a few properties having exceptionally high price_per_sqft."
      ]
    },
    {
      "cell_type": "code",
      "execution_count": 38,
      "id": "3bcc4766",
      "metadata": {
        "id": "3bcc4766",
        "outputId": "15ba16b5-d800-44e6-a721-1457a91e0625",
        "colab": {
          "base_uri": "https://localhost:8080/",
          "height": 428
        }
      },
      "outputs": [
        {
          "output_type": "execute_result",
          "data": {
            "text/plain": [
              "<Axes: ylabel='price_per_sqft'>"
            ]
          },
          "metadata": {},
          "execution_count": 38
        },
        {
          "output_type": "display_data",
          "data": {
            "text/plain": [
              "<Figure size 640x480 with 1 Axes>"
            ],
            "image/png": "[encoded data removed]"
          },
          "metadata": {}
        }
      ],
      "source": [
        "sns.boxplot(df['price_per_sqft'], color='lightgreen')"
      ]
    },
    {
      "cell_type": "markdown",
      "id": "3b9027fd",
      "metadata": {
        "id": "3b9027fd"
      },
      "source": [
        "The box plot clearly shows several outliers, especially on the higher side. The interquartile range (IQR) is relatively compact, but there are many data points beyond the \"whiskers\" of the box plot, indicating potential outliers"
      ]
    },
    {
      "cell_type": "markdown",
      "id": "d1fa1ba5",
      "metadata": {
        "id": "d1fa1ba5"
      },
      "source": [
        "#### Observations\n",
        "\n",
        "- Potential Outliers\n",
        "- Right Skewed\n",
        "- 17 missing values"
      ]
    },
    {
      "cell_type": "markdown",
      "id": "d8455a2d",
      "metadata": {
        "id": "d8455a2d"
      },
      "source": [
        "### bedRoom"
      ]
    },
    {
      "cell_type": "code",
      "execution_count": 39,
      "id": "d8ad1fec",
      "metadata": {
        "id": "d8ad1fec",
        "outputId": "7198e5f3-fd7a-42de-e9eb-8a083c4f34f1",
        "colab": {
          "base_uri": "https://localhost:8080/"
        }
      },
      "outputs": [
        {
          "output_type": "execute_result",
          "data": {
            "text/plain": [
              "0"
            ]
          },
          "metadata": {},
          "execution_count": 39
        }
      ],
      "source": [
        "df['bedRoom'].isnull().sum()"
      ]
    },
    {
      "cell_type": "code",
      "execution_count": 40,
      "id": "9350d57b",
      "metadata": {
        "id": "9350d57b",
        "outputId": "21df4b01-b799-4b4a-e57c-0543fbd09e21",
        "colab": {
          "base_uri": "https://localhost:8080/",
          "height": 451
        }
      },
      "outputs": [
        {
          "output_type": "execute_result",
          "data": {
            "text/plain": [
              "<Axes: >"
            ]
          },
          "metadata": {},
          "execution_count": 40
        },
        {
          "output_type": "display_data",
          "data": {
            "text/plain": [
              "<Figure size 640x480 with 1 Axes>"
            ],
            "image/png": "[encoded data removed]"
          },
          "metadata": {}
        }
      ],
      "source": [
        "df['bedRoom'].value_counts().sort_index().plot(kind='bar')"
      ]
    },
    {
      "cell_type": "code",
      "execution_count": 41,
      "id": "79d4ab41",
      "metadata": {
        "id": "79d4ab41",
        "outputId": "c1dbf92f-acd2-4486-8b49-7ccd05130e7a",
        "colab": {
          "base_uri": "https://localhost:8080/",
          "height": 423
        }
      },
      "outputs": [
        {
          "output_type": "execute_result",
          "data": {
            "text/plain": [
              "<Axes: ylabel='bedRoom'>"
            ]
          },
          "metadata": {},
          "execution_count": 41
        },
        {
          "output_type": "display_data",
          "data": {
            "text/plain": [
              "<Figure size 640x480 with 1 Axes>"
            ],
            "image/png": "[encoded data removed]"
          },
          "metadata": {}
        }
      ],
      "source": [
        "df['bedRoom'].value_counts(normalize=True).head().plot(kind='pie',autopct='%0.2f%%')"
      ]
    },
    {
      "cell_type": "markdown",
      "id": "37feac0c",
      "metadata": {
        "id": "37feac0c"
      },
      "source": [
        "### bathroom"
      ]
    },
    {
      "cell_type": "code",
      "execution_count": 42,
      "id": "fb928658",
      "metadata": {
        "id": "fb928658",
        "outputId": "0f9edb1c-d361-4f00-ed30-ff12da156e8f",
        "colab": {
          "base_uri": "https://localhost:8080/"
        }
      },
      "outputs": [
        {
          "output_type": "execute_result",
          "data": {
            "text/plain": [
              "0"
            ]
          },
          "metadata": {},
          "execution_count": 42
        }
      ],
      "source": [
        "df['bathroom'].isnull().sum()"
      ]
    },
    {
      "cell_type": "code",
      "execution_count": 43,
      "id": "8bef3d48",
      "metadata": {
        "id": "8bef3d48",
        "outputId": "ec11623d-1d90-49ac-9bc5-4bf3d87e89e1",
        "colab": {
          "base_uri": "https://localhost:8080/",
          "height": 451
        }
      },
      "outputs": [
        {
          "output_type": "execute_result",
          "data": {
            "text/plain": [
              "<Axes: >"
            ]
          },
          "metadata": {},
          "execution_count": 43
        },
        {
          "output_type": "display_data",
          "data": {
            "text/plain": [
              "<Figure size 640x480 with 1 Axes>"
            ],
            "image/png": "[encoded data removed]"
          },
          "metadata": {}
        }
      ],
      "source": [
        "df['bathroom'].value_counts().sort_index().plot(kind='bar')"
      ]
    },
    {
      "cell_type": "code",
      "execution_count": 44,
      "id": "b8a28001",
      "metadata": {
        "id": "b8a28001",
        "outputId": "5a14ef96-f457-41a8-9817-03a926744802",
        "colab": {
          "base_uri": "https://localhost:8080/",
          "height": 423
        }
      },
      "outputs": [
        {
          "output_type": "execute_result",
          "data": {
            "text/plain": [
              "<Axes: ylabel='bathroom'>"
            ]
          },
          "metadata": {},
          "execution_count": 44
        },
        {
          "output_type": "display_data",
          "data": {
            "text/plain": [
              "<Figure size 640x480 with 1 Axes>"
            ],
            "image/png": "[encoded data removed]"
          },
          "metadata": {}
        }
      ],
      "source": [
        "df['bathroom'].value_counts(normalize=True).head().plot(kind='pie',autopct='%0.2f%%')"
      ]
    },
    {
      "cell_type": "code",
      "execution_count": 45,
      "id": "cb0a1a1e",
      "metadata": {
        "id": "cb0a1a1e",
        "outputId": "2a39dd61-93fb-4af1-e15a-0aebf275d943",
        "colab": {
          "base_uri": "https://localhost:8080/",
          "height": 533
        }
      },
      "outputs": [
        {
          "output_type": "execute_result",
          "data": {
            "text/plain": [
              "  property_type       society     sector  price  price_per_sqft  \\\n",
              "0          flat    chd avenue  sector 71   1.10          6790.0   \n",
              "1          flat  tulip violet  sector 69   3.10          9822.0   \n",
              "2         house   independent  sector 43   7.85         29074.0   \n",
              "3          flat    chd avenue  sector 71   0.98          6049.0   \n",
              "4          flat   m3m skywalk  sector 74   1.47         10954.0   \n",
              "\n",
              "                                        areaWithType  bedRoom  bathroom  \\\n",
              "0              Super Built up area 1620(150.5 sq.m.)        3         3   \n",
              "1  Super Built up area 3156(293.2 sq.m.)Carpet ar...        4         6   \n",
              "2                        Plot area 300(250.84 sq.m.)        9         9   \n",
              "3              Super Built up area 1620(150.5 sq.m.)        3         3   \n",
              "4             Super Built up area 1415(131.46 sq.m.)        2         2   \n",
              "\n",
              "  balcony  floorNum  ... super_built_up_area built_up_area  carpet_area  \\\n",
              "0       3      11.0  ...              1620.0           NaN          NaN   \n",
              "1      3+      14.0  ...              3156.0           NaN       2500.0   \n",
              "2      3+       3.0  ...                 NaN        2700.0          NaN   \n",
              "3       3       0.0  ...              1620.0           NaN          NaN   \n",
              "4       3      26.0  ...              1415.0           NaN          NaN   \n",
              "\n",
              "   study room  servant room  store room  pooja room  others  furnishing_type  \\\n",
              "0           0             0           0           0       1                0   \n",
              "1           0             1           0           1       0                0   \n",
              "2           1             1           0           1       1                1   \n",
              "3           1             0           0           0       0                0   \n",
              "4           0             0           0           0       0                2   \n",
              "\n",
              "   luxury_score  \n",
              "0            72  \n",
              "1           174  \n",
              "2            49  \n",
              "3            65  \n",
              "4            31  \n",
              "\n",
              "[5 rows x 23 columns]"
            ],
            "text/html": [
              "\n",
              "  <div id=\"df-949005d1-9843-4426-9cc0-d5701d376eee\" class=\"colab-df-container\">\n",
              "    <div>\n",
              "<style scoped>\n",
              "    .dataframe tbody tr th:only-of-type {\n",
              "        vertical-align: middle;\n",
              "    }\n",
              "\n",
              "    .dataframe tbody tr th {\n",
              "        vertical-align: top;\n",
              "    }\n",
              "\n",
              "    .dataframe thead th {\n",
              "        text-align: right;\n",
              "    }\n",
              "</style>\n",
              "<table border=\"1\" class=\"dataframe\">\n",
              "  <thead>\n",
              "    <tr style=\"text-align: right;\">\n",
              "      <th></th>\n",
              "      <th>property_type</th>\n",
              "      <th>society</th>\n",
              "      <th>sector</th>\n",
              "      <th>price</th>\n",
              "      <th>price_per_sqft</th>\n",
              "      <th>areaWithType</th>\n",
              "      <th>bedRoom</th>\n",
              "      <th>bathroom</th>\n",
              "      <th>balcony</th>\n",
              "      <th>floorNum</th>\n",
              "      <th>...</th>\n",
              "      <th>super_built_up_area</th>\n",
              "      <th>built_up_area</th>\n",
              "      <th>carpet_area</th>\n",
              "      <th>study room</th>\n",
              "      <th>servant room</th>\n",
              "      <th>store room</th>\n",
              "      <th>pooja room</th>\n",
              "      <th>others</th>\n",
              "      <th>furnishing_type</th>\n",
              "      <th>luxury_score</th>\n",
              "    </tr>\n",
              "  </thead>\n",
              "  <tbody>\n",
              "    <tr>\n",
              "      <th>0</th>\n",
              "      <td>flat</td>\n",
              "      <td>chd avenue</td>\n",
              "      <td>sector 71</td>\n",
              "      <td>1.10</td>\n",
              "      <td>6790.0</td>\n",
              "      <td>Super Built up area 1620(150.5 sq.m.)</td>\n",
              "      <td>3</td>\n",
              "      <td>3</td>\n",
              "      <td>3</td>\n",
              "      <td>11.0</td>\n",
              "      <td>...</td>\n",
              "      <td>1620.0</td>\n",
              "      <td>NaN</td>\n",
              "      <td>NaN</td>\n",
              "      <td>0</td>\n",
              "      <td>0</td>\n",
              "      <td>0</td>\n",
              "      <td>0</td>\n",
              "      <td>1</td>\n",
              "      <td>0</td>\n",
              "      <td>72</td>\n",
              "    </tr>\n",
              "    <tr>\n",
              "      <th>1</th>\n",
              "      <td>flat</td>\n",
              "      <td>tulip violet</td>\n",
              "      <td>sector 69</td>\n",
              "      <td>3.10</td>\n",
              "      <td>9822.0</td>\n",
              "      <td>Super Built up area 3156(293.2 sq.m.)Carpet ar...</td>\n",
              "      <td>4</td>\n",
              "      <td>6</td>\n",
              "      <td>3+</td>\n",
              "      <td>14.0</td>\n",
              "      <td>...</td>\n",
              "      <td>3156.0</td>\n",
              "      <td>NaN</td>\n",
              "      <td>2500.0</td>\n",
              "      <td>0</td>\n",
              "      <td>1</td>\n",
              "      <td>0</td>\n",
              "      <td>1</td>\n",
              "      <td>0</td>\n",
              "      <td>0</td>\n",
              "      <td>174</td>\n",
              "    </tr>\n",
              "    <tr>\n",
              "      <th>2</th>\n",
              "      <td>house</td>\n",
              "      <td>independent</td>\n",
              "      <td>sector 43</td>\n",
              "      <td>7.85</td>\n",
              "      <td>29074.0</td>\n",
              "      <td>Plot area 300(250.84 sq.m.)</td>\n",
              "      <td>9</td>\n",
              "      <td>9</td>\n",
              "      <td>3+</td>\n",
              "      <td>3.0</td>\n",
              "      <td>...</td>\n",
              "      <td>NaN</td>\n",
              "      <td>2700.0</td>\n",
              "      <td>NaN</td>\n",
              "      <td>1</td>\n",
              "      <td>1</td>\n",
              "      <td>0</td>\n",
              "      <td>1</td>\n",
              "      <td>1</td>\n",
              "      <td>1</td>\n",
              "      <td>49</td>\n",
              "    </tr>\n",
              "    <tr>\n",
              "      <th>3</th>\n",
              "      <td>flat</td>\n",
              "      <td>chd avenue</td>\n",
              "      <td>sector 71</td>\n",
              "      <td>0.98</td>\n",
              "      <td>6049.0</td>\n",
              "      <td>Super Built up area 1620(150.5 sq.m.)</td>\n",
              "      <td>3</td>\n",
              "      <td>3</td>\n",
              "      <td>3</td>\n",
              "      <td>0.0</td>\n",
              "      <td>...</td>\n",
              "      <td>1620.0</td>\n",
              "      <td>NaN</td>\n",
              "      <td>NaN</td>\n",
              "      <td>1</td>\n",
              "      <td>0</td>\n",
              "      <td>0</td>\n",
              "      <td>0</td>\n",
              "      <td>0</td>\n",
              "      <td>0</td>\n",
              "      <td>65</td>\n",
              "    </tr>\n",
              "    <tr>\n",
              "      <th>4</th>\n",
              "      <td>flat</td>\n",
              "      <td>m3m skywalk</td>\n",
              "      <td>sector 74</td>\n",
              "      <td>1.47</td>\n",
              "      <td>10954.0</td>\n",
              "      <td>Super Built up area 1415(131.46 sq.m.)</td>\n",
              "      <td>2</td>\n",
              "      <td>2</td>\n",
              "      <td>3</td>\n",
              "      <td>26.0</td>\n",
              "      <td>...</td>\n",
              "      <td>1415.0</td>\n",
              "      <td>NaN</td>\n",
              "      <td>NaN</td>\n",
              "      <td>0</td>\n",
              "      <td>0</td>\n",
              "      <td>0</td>\n",
              "      <td>0</td>\n",
              "      <td>0</td>\n",
              "      <td>2</td>\n",
              "      <td>31</td>\n",
              "    </tr>\n",
              "  </tbody>\n",
              "</table>\n",
              "<p>5 rows × 23 columns</p>\n",
              "</div>\n",
              "    <div class=\"colab-df-buttons\">\n",
              "\n",
              "  <div class=\"colab-df-container\">\n",
              "    <button class=\"colab-df-convert\" onclick=\"convertToInteractive('df-949005d1-9843-4426-9cc0-d5701d376eee')\"\n",
              "            title=\"Convert this dataframe to an interactive table.\"\n",
              "            style=\"display:none;\">\n",
              "\n",
              "  <svg xmlns=\"http://www.w3.org/2000/svg\" height=\"24px\" viewBox=\"0 -960 960 960\">\n",
              "    <path d=\"M120-120v-720h720v720H120Zm60-500h600v-160H180v160Zm220 220h160v-160H400v160Zm0 220h160v-160H400v160ZM180-400h160v-160H180v160Zm440 0h160v-160H620v160ZM180-180h160v-160H180v160Zm440 0h160v-160H620v160Z\"/>\n",
              "  </svg>\n",
              "    </button>\n",
              "\n",
              "  <style>\n",
              "    .colab-df-container {\n",
              "      display:flex;\n",
              "      gap: 12px;\n",
              "    }\n",
              "\n",
              "    .colab-df-convert {\n",
              "      background-color: #E8F0FE;\n",
              "      border: none;\n",
              "      border-radius: 50%;\n",
              "      cursor: pointer;\n",
              "      display: none;\n",
              "      fill: #1967D2;\n",
              "      height: 32px;\n",
              "      padding: 0 0 0 0;\n",
              "      width: 32px;\n",
              "    }\n",
              "\n",
              "    .colab-df-convert:hover {\n",
              "      background-color: #E2EBFA;\n",
              "      box-shadow: 0px 1px 2px rgba(60, 64, 67, 0.3), 0px 1px 3px 1px rgba(60, 64, 67, 0.15);\n",
              "      fill: #174EA6;\n",
              "    }\n",
              "\n",
              "    .colab-df-buttons div {\n",
              "      margin-bottom: 4px;\n",
              "    }\n",
              "\n",
              "    [theme=dark] .colab-df-convert {\n",
              "      background-color: #3B4455;\n",
              "      fill: #D2E3FC;\n",
              "    }\n",
              "\n",
              "    [theme=dark] .colab-df-convert:hover {\n",
              "      background-color: #434B5C;\n",
              "      box-shadow: 0px 1px 3px 1px rgba(0, 0, 0, 0.15);\n",
              "      filter: drop-shadow(0px 1px 2px rgba(0, 0, 0, 0.3));\n",
              "      fill: #FFFFFF;\n",
              "    }\n",
              "  </style>\n",
              "\n",
              "    <script>\n",
              "      const buttonEl =\n",
              "        document.querySelector('#df-949005d1-9843-4426-9cc0-d5701d376eee button.colab-df-convert');\n",
              "      buttonEl.style.display =\n",
              "        google.colab.kernel.accessAllowed ? 'block' : 'none';\n",
              "\n",
              "      async function convertToInteractive(key) {\n",
              "        const element = document.querySelector('#df-949005d1-9843-4426-9cc0-d5701d376eee');\n",
              "        const dataTable =\n",
              "          await google.colab.kernel.invokeFunction('convertToInteractive',\n",
              "                                                    [key], {});\n",
              "        if (!dataTable) return;\n",
              "\n",
              "        const docLinkHtml = 'Like what you see? Visit the ' +\n",
              "          '<a target=\"_blank\" href=https://colab.research.google.com/notebooks/data_table.ipynb>data table notebook</a>'\n",
              "          + ' to learn more about interactive tables.';\n",
              "        element.innerHTML = '';\n",
              "        dataTable['output_type'] = 'display_data';\n",
              "        await google.colab.output.renderOutput(dataTable, element);\n",
              "        const docLink = document.createElement('div');\n",
              "        docLink.innerHTML = docLinkHtml;\n",
              "        element.appendChild(docLink);\n",
              "      }\n",
              "    </script>\n",
              "  </div>\n",
              "\n",
              "\n",
              "<div id=\"df-e9f10923-e71b-4d68-a186-2f9c7d185220\">\n",
              "  <button class=\"colab-df-quickchart\" onclick=\"quickchart('df-e9f10923-e71b-4d68-a186-2f9c7d185220')\"\n",
              "            title=\"Suggest charts\"\n",
              "            style=\"display:none;\">\n",
              "\n",
              "<svg xmlns=\"http://www.w3.org/2000/svg\" height=\"24px\"viewBox=\"0 0 24 24\"\n",
              "     width=\"24px\">\n",
              "    <g>\n",
              "        <path d=\"M19 3H5c-1.1 0-2 .9-2 2v14c0 1.1.9 2 2 2h14c1.1 0 2-.9 2-2V5c0-1.1-.9-2-2-2zM9 17H7v-7h2v7zm4 0h-2V7h2v10zm4 0h-2v-4h2v4z\"/>\n",
              "    </g>\n",
              "</svg>\n",
              "  </button>\n",
              "\n",
              "<style>\n",
              "  .colab-df-quickchart {\n",
              "      --bg-color: #E8F0FE;\n",
              "      --fill-color: #1967D2;\n",
              "      --hover-bg-color: #E2EBFA;\n",
              "      --hover-fill-color: #174EA6;\n",
              "      --disabled-fill-color: #AAA;\n",
              "      --disabled-bg-color: #DDD;\n",
              "  }\n",
              "\n",
              "  [theme=dark] .colab-df-quickchart {\n",
              "      --bg-color: #3B4455;\n",
              "      --fill-color: #D2E3FC;\n",
              "      --hover-bg-color: #434B5C;\n",
              "      --hover-fill-color: #FFFFFF;\n",
              "      --disabled-bg-color: #3B4455;\n",
              "      --disabled-fill-color: #666;\n",
              "  }\n",
              "\n",
              "  .colab-df-quickchart {\n",
              "    background-color: var(--bg-color);\n",
              "    border: none;\n",
              "    border-radius: 50%;\n",
              "    cursor: pointer;\n",
              "    display: none;\n",
              "    fill: var(--fill-color);\n",
              "    height: 32px;\n",
              "    padding: 0;\n",
              "    width: 32px;\n",
              "  }\n",
              "\n",
              "  .colab-df-quickchart:hover {\n",
              "    background-color: var(--hover-bg-color);\n",
              "    box-shadow: 0 1px 2px rgba(60, 64, 67, 0.3), 0 1px 3px 1px rgba(60, 64, 67, 0.15);\n",
              "    fill: var(--button-hover-fill-color);\n",
              "  }\n",
              "\n",
              "  .colab-df-quickchart-complete:disabled,\n",
              "  .colab-df-quickchart-complete:disabled:hover {\n",
              "    background-color: var(--disabled-bg-color);\n",
              "    fill: var(--disabled-fill-color);\n",
              "    box-shadow: none;\n",
              "  }\n",
              "\n",
              "  .colab-df-spinner {\n",
              "    border: 2px solid var(--fill-color);\n",
              "    border-color: transparent;\n",
              "    border-bottom-color: var(--fill-color);\n",
              "    animation:\n",
              "      spin 1s steps(1) infinite;\n",
              "  }\n",
              "\n",
              "  @keyframes spin {\n",
              "    0% {\n",
              "      border-color: transparent;\n",
              "      border-bottom-color: var(--fill-color);\n",
              "      border-left-color: var(--fill-color);\n",
              "    }\n",
              "    20% {\n",
              "      border-color: transparent;\n",
              "      border-left-color: var(--fill-color);\n",
              "      border-top-color: var(--fill-color);\n",
              "    }\n",
              "    30% {\n",
              "      border-color: transparent;\n",
              "      border-left-color: var(--fill-color);\n",
              "      border-top-color: var(--fill-color);\n",
              "      border-right-color: var(--fill-color);\n",
              "    }\n",
              "    40% {\n",
              "      border-color: transparent;\n",
              "      border-right-color: var(--fill-color);\n",
              "      border-top-color: var(--fill-color);\n",
              "    }\n",
              "    60% {\n",
              "      border-color: transparent;\n",
              "      border-right-color: var(--fill-color);\n",
              "    }\n",
              "    80% {\n",
              "      border-color: transparent;\n",
              "      border-right-color: var(--fill-color);\n",
              "      border-bottom-color: var(--fill-color);\n",
              "    }\n",
              "    90% {\n",
              "      border-color: transparent;\n",
              "      border-bottom-color: var(--fill-color);\n",
              "    }\n",
              "  }\n",
              "</style>\n",
              "\n",
              "  <script>\n",
              "    async function quickchart(key) {\n",
              "      const quickchartButtonEl =\n",
              "        document.querySelector('#' + key + ' button');\n",
              "      quickchartButtonEl.disabled = true;  // To prevent multiple clicks.\n",
              "      quickchartButtonEl.classList.add('colab-df-spinner');\n",
              "      try {\n",
              "        const charts = await google.colab.kernel.invokeFunction(\n",
              "            'suggestCharts', [key], {});\n",
              "      } catch (error) {\n",
              "        console.error('Error during call to suggestCharts:', error);\n",
              "      }\n",
              "      quickchartButtonEl.classList.remove('colab-df-spinner');\n",
              "      quickchartButtonEl.classList.add('colab-df-quickchart-complete');\n",
              "    }\n",
              "    (() => {\n",
              "      let quickchartButtonEl =\n",
              "        document.querySelector('#df-e9f10923-e71b-4d68-a186-2f9c7d185220 button');\n",
              "      quickchartButtonEl.style.display =\n",
              "        google.colab.kernel.accessAllowed ? 'block' : 'none';\n",
              "    })();\n",
              "  </script>\n",
              "</div>\n",
              "\n",
              "    </div>\n",
              "  </div>\n"
            ]
          },
          "metadata": {},
          "execution_count": 45
        }
      ],
      "source": [
        "df.head()"
      ]
    },
    {
      "cell_type": "markdown",
      "id": "67be5832",
      "metadata": {
        "id": "67be5832"
      },
      "source": [
        "### balcony"
      ]
    },
    {
      "cell_type": "code",
      "execution_count": 46,
      "id": "99081980",
      "metadata": {
        "id": "99081980",
        "outputId": "4bdcba81-3b5c-4375-e9ca-90138c43a6e2",
        "colab": {
          "base_uri": "https://localhost:8080/"
        }
      },
      "outputs": [
        {
          "output_type": "execute_result",
          "data": {
            "text/plain": [
              "0"
            ]
          },
          "metadata": {},
          "execution_count": 46
        }
      ],
      "source": [
        "df['balcony'].isnull().sum()"
      ]
    },
    {
      "cell_type": "code",
      "execution_count": 47,
      "id": "a694fbee",
      "metadata": {
        "id": "a694fbee",
        "outputId": "a77fc95f-abda-4383-8061-47f12070dbf6",
        "colab": {
          "base_uri": "https://localhost:8080/",
          "height": 453
        }
      },
      "outputs": [
        {
          "output_type": "execute_result",
          "data": {
            "text/plain": [
              "<Axes: >"
            ]
          },
          "metadata": {},
          "execution_count": 47
        },
        {
          "output_type": "display_data",
          "data": {
            "text/plain": [
              "<Figure size 640x480 with 1 Axes>"
            ],
            "image/png": "[encoded data removed]"
          },
          "metadata": {}
        }
      ],
      "source": [
        "df['balcony'].value_counts().plot(kind='bar')"
      ]
    },
    {
      "cell_type": "code",
      "execution_count": 48,
      "id": "91ee6d81",
      "metadata": {
        "id": "91ee6d81",
        "outputId": "24804e7a-5eac-4b4c-fcaf-e23e9793fae2",
        "colab": {
          "base_uri": "https://localhost:8080/",
          "height": 423
        }
      },
      "outputs": [
        {
          "output_type": "execute_result",
          "data": {
            "text/plain": [
              "<Axes: ylabel='balcony'>"
            ]
          },
          "metadata": {},
          "execution_count": 48
        },
        {
          "output_type": "display_data",
          "data": {
            "text/plain": [
              "<Figure size 640x480 with 1 Axes>"
            ],
            "image/png": "[encoded data removed]"
          },
          "metadata": {}
        }
      ],
      "source": [
        "df['balcony'].value_counts(normalize=True).head().plot(kind='pie',autopct='%0.2f%%')"
      ]
    },
    {
      "cell_type": "code",
      "execution_count": 49,
      "id": "6230d50a",
      "metadata": {
        "id": "6230d50a"
      },
      "outputs": [],
      "source": [
        "### floorNum"
      ]
    },
    {
      "cell_type": "code",
      "execution_count": 50,
      "id": "0750294d",
      "metadata": {
        "id": "0750294d",
        "outputId": "6a1279c3-49f6-4c96-de66-c0517754059e",
        "colab": {
          "base_uri": "https://localhost:8080/",
          "height": 206
        }
      },
      "outputs": [
        {
          "output_type": "execute_result",
          "data": {
            "text/plain": [
              "       facing   agePossession    area  super_built_up_area  built_up_area  \\\n",
              "0         NaN  Relatively New  1620.0               1620.0            NaN   \n",
              "1       North  Relatively New  3156.0               3156.0            NaN   \n",
              "2        West  Relatively New  2700.0                  NaN         2700.0   \n",
              "3  South-East  Moderately Old  1620.0               1620.0            NaN   \n",
              "4         NaN    New Property  1342.0               1415.0            NaN   \n",
              "\n",
              "   carpet_area  study room  servant room  store room  pooja room  others  \\\n",
              "0          NaN           0             0           0           0       1   \n",
              "1       2500.0           0             1           0           1       0   \n",
              "2          NaN           1             1           0           1       1   \n",
              "3          NaN           1             0           0           0       0   \n",
              "4          NaN           0             0           0           0       0   \n",
              "\n",
              "   furnishing_type  luxury_score  \n",
              "0                0            72  \n",
              "1                0           174  \n",
              "2                1            49  \n",
              "3                0            65  \n",
              "4                2            31  "
            ],
            "text/html": [
              "\n",
              "  <div id=\"df-7715bd03-46d1-4d88-8423-fbc7010541a6\" class=\"colab-df-container\">\n",
              "    <div>\n",
              "<style scoped>\n",
              "    .dataframe tbody tr th:only-of-type {\n",
              "        vertical-align: middle;\n",
              "    }\n",
              "\n",
              "    .dataframe tbody tr th {\n",
              "        vertical-align: top;\n",
              "    }\n",
              "\n",
              "    .dataframe thead th {\n",
              "        text-align: right;\n",
              "    }\n",
              "</style>\n",
              "<table border=\"1\" class=\"dataframe\">\n",
              "  <thead>\n",
              "    <tr style=\"text-align: right;\">\n",
              "      <th></th>\n",
              "      <th>facing</th>\n",
              "      <th>agePossession</th>\n",
              "      <th>area</th>\n",
              "      <th>super_built_up_area</th>\n",
              "      <th>built_up_area</th>\n",
              "      <th>carpet_area</th>\n",
              "      <th>study room</th>\n",
              "      <th>servant room</th>\n",
              "      <th>store room</th>\n",
              "      <th>pooja room</th>\n",
              "      <th>others</th>\n",
              "      <th>furnishing_type</th>\n",
              "      <th>luxury_score</th>\n",
              "    </tr>\n",
              "  </thead>\n",
              "  <tbody>\n",
              "    <tr>\n",
              "      <th>0</th>\n",
              "      <td>NaN</td>\n",
              "      <td>Relatively New</td>\n",
              "      <td>1620.0</td>\n",
              "      <td>1620.0</td>\n",
              "      <td>NaN</td>\n",
              "      <td>NaN</td>\n",
              "      <td>0</td>\n",
              "      <td>0</td>\n",
              "      <td>0</td>\n",
              "      <td>0</td>\n",
              "      <td>1</td>\n",
              "      <td>0</td>\n",
              "      <td>72</td>\n",
              "    </tr>\n",
              "    <tr>\n",
              "      <th>1</th>\n",
              "      <td>North</td>\n",
              "      <td>Relatively New</td>\n",
              "      <td>3156.0</td>\n",
              "      <td>3156.0</td>\n",
              "      <td>NaN</td>\n",
              "      <td>2500.0</td>\n",
              "      <td>0</td>\n",
              "      <td>1</td>\n",
              "      <td>0</td>\n",
              "      <td>1</td>\n",
              "      <td>0</td>\n",
              "      <td>0</td>\n",
              "      <td>174</td>\n",
              "    </tr>\n",
              "    <tr>\n",
              "      <th>2</th>\n",
              "      <td>West</td>\n",
              "      <td>Relatively New</td>\n",
              "      <td>2700.0</td>\n",
              "      <td>NaN</td>\n",
              "      <td>2700.0</td>\n",
              "      <td>NaN</td>\n",
              "      <td>1</td>\n",
              "      <td>1</td>\n",
              "      <td>0</td>\n",
              "      <td>1</td>\n",
              "      <td>1</td>\n",
              "      <td>1</td>\n",
              "      <td>49</td>\n",
              "    </tr>\n",
              "    <tr>\n",
              "      <th>3</th>\n",
              "      <td>South-East</td>\n",
              "      <td>Moderately Old</td>\n",
              "      <td>1620.0</td>\n",
              "      <td>1620.0</td>\n",
              "      <td>NaN</td>\n",
              "      <td>NaN</td>\n",
              "      <td>1</td>\n",
              "      <td>0</td>\n",
              "      <td>0</td>\n",
              "      <td>0</td>\n",
              "      <td>0</td>\n",
              "      <td>0</td>\n",
              "      <td>65</td>\n",
              "    </tr>\n",
              "    <tr>\n",
              "      <th>4</th>\n",
              "      <td>NaN</td>\n",
              "      <td>New Property</td>\n",
              "      <td>1342.0</td>\n",
              "      <td>1415.0</td>\n",
              "      <td>NaN</td>\n",
              "      <td>NaN</td>\n",
              "      <td>0</td>\n",
              "      <td>0</td>\n",
              "      <td>0</td>\n",
              "      <td>0</td>\n",
              "      <td>0</td>\n",
              "      <td>2</td>\n",
              "      <td>31</td>\n",
              "    </tr>\n",
              "  </tbody>\n",
              "</table>\n",
              "</div>\n",
              "    <div class=\"colab-df-buttons\">\n",
              "\n",
              "  <div class=\"colab-df-container\">\n",
              "    <button class=\"colab-df-convert\" onclick=\"convertToInteractive('df-7715bd03-46d1-4d88-8423-fbc7010541a6')\"\n",
              "            title=\"Convert this dataframe to an interactive table.\"\n",
              "            style=\"display:none;\">\n",
              "\n",
              "  <svg xmlns=\"http://www.w3.org/2000/svg\" height=\"24px\" viewBox=\"0 -960 960 960\">\n",
              "    <path d=\"M120-120v-720h720v720H120Zm60-500h600v-160H180v160Zm220 220h160v-160H400v160Zm0 220h160v-160H400v160ZM180-400h160v-160H180v160Zm440 0h160v-160H620v160ZM180-180h160v-160H180v160Zm440 0h160v-160H620v160Z\"/>\n",
              "  </svg>\n",
              "    </button>\n",
              "\n",
              "  <style>\n",
              "    .colab-df-container {\n",
              "      display:flex;\n",
              "      gap: 12px;\n",
              "    }\n",
              "\n",
              "    .colab-df-convert {\n",
              "      background-color: #E8F0FE;\n",
              "      border: none;\n",
              "      border-radius: 50%;\n",
              "      cursor: pointer;\n",
              "      display: none;\n",
              "      fill: #1967D2;\n",
              "      height: 32px;\n",
              "      padding: 0 0 0 0;\n",
              "      width: 32px;\n",
              "    }\n",
              "\n",
              "    .colab-df-convert:hover {\n",
              "      background-color: #E2EBFA;\n",
              "      box-shadow: 0px 1px 2px rgba(60, 64, 67, 0.3), 0px 1px 3px 1px rgba(60, 64, 67, 0.15);\n",
              "      fill: #174EA6;\n",
              "    }\n",
              "\n",
              "    .colab-df-buttons div {\n",
              "      margin-bottom: 4px;\n",
              "    }\n",
              "\n",
              "    [theme=dark] .colab-df-convert {\n",
              "      background-color: #3B4455;\n",
              "      fill: #D2E3FC;\n",
              "    }\n",
              "\n",
              "    [theme=dark] .colab-df-convert:hover {\n",
              "      background-color: #434B5C;\n",
              "      box-shadow: 0px 1px 3px 1px rgba(0, 0, 0, 0.15);\n",
              "      filter: drop-shadow(0px 1px 2px rgba(0, 0, 0, 0.3));\n",
              "      fill: #FFFFFF;\n",
              "    }\n",
              "  </style>\n",
              "\n",
              "    <script>\n",
              "      const buttonEl =\n",
              "        document.querySelector('#df-7715bd03-46d1-4d88-8423-fbc7010541a6 button.colab-df-convert');\n",
              "      buttonEl.style.display =\n",
              "        google.colab.kernel.accessAllowed ? 'block' : 'none';\n",
              "\n",
              "      async function convertToInteractive(key) {\n",
              "        const element = document.querySelector('#df-7715bd03-46d1-4d88-8423-fbc7010541a6');\n",
              "        const dataTable =\n",
              "          await google.colab.kernel.invokeFunction('convertToInteractive',\n",
              "                                                    [key], {});\n",
              "        if (!dataTable) return;\n",
              "\n",
              "        const docLinkHtml = 'Like what you see? Visit the ' +\n",
              "          '<a target=\"_blank\" href=https://colab.research.google.com/notebooks/data_table.ipynb>data table notebook</a>'\n",
              "          + ' to learn more about interactive tables.';\n",
              "        element.innerHTML = '';\n",
              "        dataTable['output_type'] = 'display_data';\n",
              "        await google.colab.output.renderOutput(dataTable, element);\n",
              "        const docLink = document.createElement('div');\n",
              "        docLink.innerHTML = docLinkHtml;\n",
              "        element.appendChild(docLink);\n",
              "      }\n",
              "    </script>\n",
              "  </div>\n",
              "\n",
              "\n",
              "<div id=\"df-cf64059b-c7e1-4503-902f-922261df17bf\">\n",
              "  <button class=\"colab-df-quickchart\" onclick=\"quickchart('df-cf64059b-c7e1-4503-902f-922261df17bf')\"\n",
              "            title=\"Suggest charts\"\n",
              "            style=\"display:none;\">\n",
              "\n",
              "<svg xmlns=\"http://www.w3.org/2000/svg\" height=\"24px\"viewBox=\"0 0 24 24\"\n",
              "     width=\"24px\">\n",
              "    <g>\n",
              "        <path d=\"M19 3H5c-1.1 0-2 .9-2 2v14c0 1.1.9 2 2 2h14c1.1 0 2-.9 2-2V5c0-1.1-.9-2-2-2zM9 17H7v-7h2v7zm4 0h-2V7h2v10zm4 0h-2v-4h2v4z\"/>\n",
              "    </g>\n",
              "</svg>\n",
              "  </button>\n",
              "\n",
              "<style>\n",
              "  .colab-df-quickchart {\n",
              "      --bg-color: #E8F0FE;\n",
              "      --fill-color: #1967D2;\n",
              "      --hover-bg-color: #E2EBFA;\n",
              "      --hover-fill-color: #174EA6;\n",
              "      --disabled-fill-color: #AAA;\n",
              "      --disabled-bg-color: #DDD;\n",
              "  }\n",
              "\n",
              "  [theme=dark] .colab-df-quickchart {\n",
              "      --bg-color: #3B4455;\n",
              "      --fill-color: #D2E3FC;\n",
              "      --hover-bg-color: #434B5C;\n",
              "      --hover-fill-color: #FFFFFF;\n",
              "      --disabled-bg-color: #3B4455;\n",
              "      --disabled-fill-color: #666;\n",
              "  }\n",
              "\n",
              "  .colab-df-quickchart {\n",
              "    background-color: var(--bg-color);\n",
              "    border: none;\n",
              "    border-radius: 50%;\n",
              "    cursor: pointer;\n",
              "    display: none;\n",
              "    fill: var(--fill-color);\n",
              "    height: 32px;\n",
              "    padding: 0;\n",
              "    width: 32px;\n",
              "  }\n",
              "\n",
              "  .colab-df-quickchart:hover {\n",
              "    background-color: var(--hover-bg-color);\n",
              "    box-shadow: 0 1px 2px rgba(60, 64, 67, 0.3), 0 1px 3px 1px rgba(60, 64, 67, 0.15);\n",
              "    fill: var(--button-hover-fill-color);\n",
              "  }\n",
              "\n",
              "  .colab-df-quickchart-complete:disabled,\n",
              "  .colab-df-quickchart-complete:disabled:hover {\n",
              "    background-color: var(--disabled-bg-color);\n",
              "    fill: var(--disabled-fill-color);\n",
              "    box-shadow: none;\n",
              "  }\n",
              "\n",
              "  .colab-df-spinner {\n",
              "    border: 2px solid var(--fill-color);\n",
              "    border-color: transparent;\n",
              "    border-bottom-color: var(--fill-color);\n",
              "    animation:\n",
              "      spin 1s steps(1) infinite;\n",
              "  }\n",
              "\n",
              "  @keyframes spin {\n",
              "    0% {\n",
              "      border-color: transparent;\n",
              "      border-bottom-color: var(--fill-color);\n",
              "      border-left-color: var(--fill-color);\n",
              "    }\n",
              "    20% {\n",
              "      border-color: transparent;\n",
              "      border-left-color: var(--fill-color);\n",
              "      border-top-color: var(--fill-color);\n",
              "    }\n",
              "    30% {\n",
              "      border-color: transparent;\n",
              "      border-left-color: var(--fill-color);\n",
              "      border-top-color: var(--fill-color);\n",
              "      border-right-color: var(--fill-color);\n",
              "    }\n",
              "    40% {\n",
              "      border-color: transparent;\n",
              "      border-right-color: var(--fill-color);\n",
              "      border-top-color: var(--fill-color);\n",
              "    }\n",
              "    60% {\n",
              "      border-color: transparent;\n",
              "      border-right-color: var(--fill-color);\n",
              "    }\n",
              "    80% {\n",
              "      border-color: transparent;\n",
              "      border-right-color: var(--fill-color);\n",
              "      border-bottom-color: var(--fill-color);\n",
              "    }\n",
              "    90% {\n",
              "      border-color: transparent;\n",
              "      border-bottom-color: var(--fill-color);\n",
              "    }\n",
              "  }\n",
              "</style>\n",
              "\n",
              "  <script>\n",
              "    async function quickchart(key) {\n",
              "      const quickchartButtonEl =\n",
              "        document.querySelector('#' + key + ' button');\n",
              "      quickchartButtonEl.disabled = true;  // To prevent multiple clicks.\n",
              "      quickchartButtonEl.classList.add('colab-df-spinner');\n",
              "      try {\n",
              "        const charts = await google.colab.kernel.invokeFunction(\n",
              "            'suggestCharts', [key], {});\n",
              "      } catch (error) {\n",
              "        console.error('Error during call to suggestCharts:', error);\n",
              "      }\n",
              "      quickchartButtonEl.classList.remove('colab-df-spinner');\n",
              "      quickchartButtonEl.classList.add('colab-df-quickchart-complete');\n",
              "    }\n",
              "    (() => {\n",
              "      let quickchartButtonEl =\n",
              "        document.querySelector('#df-cf64059b-c7e1-4503-902f-922261df17bf button');\n",
              "      quickchartButtonEl.style.display =\n",
              "        google.colab.kernel.accessAllowed ? 'block' : 'none';\n",
              "    })();\n",
              "  </script>\n",
              "</div>\n",
              "\n",
              "    </div>\n",
              "  </div>\n"
            ]
          },
          "metadata": {},
          "execution_count": 50
        }
      ],
      "source": [
        "df.iloc[:,10:].head()"
      ]
    },
    {
      "cell_type": "code",
      "execution_count": 51,
      "id": "4935ccd5",
      "metadata": {
        "id": "4935ccd5",
        "outputId": "16ff2d39-082a-45fe-910f-b7400a42f529",
        "colab": {
          "base_uri": "https://localhost:8080/"
        }
      },
      "outputs": [
        {
          "output_type": "execute_result",
          "data": {
            "text/plain": [
              "19"
            ]
          },
          "metadata": {},
          "execution_count": 51
        }
      ],
      "source": [
        "df['floorNum'].isnull().sum()"
      ]
    },
    {
      "cell_type": "code",
      "execution_count": 52,
      "id": "754be8fc",
      "metadata": {
        "id": "754be8fc",
        "outputId": "f1d0a3de-4abd-4f97-ec19-adfe745b8ff1",
        "colab": {
          "base_uri": "https://localhost:8080/"
        }
      },
      "outputs": [
        {
          "output_type": "execute_result",
          "data": {
            "text/plain": [
              "count    3658.000000\n",
              "mean        6.798250\n",
              "std         6.012454\n",
              "min         0.000000\n",
              "25%         2.000000\n",
              "50%         5.000000\n",
              "75%        10.000000\n",
              "max        51.000000\n",
              "Name: floorNum, dtype: float64"
            ]
          },
          "metadata": {},
          "execution_count": 52
        }
      ],
      "source": [
        "df['floorNum'].describe()"
      ]
    },
    {
      "cell_type": "code",
      "execution_count": 53,
      "id": "53ee2641",
      "metadata": {
        "id": "53ee2641",
        "outputId": "538ccadb-246a-4dad-fec0-0eb197a99c47",
        "colab": {
          "base_uri": "https://localhost:8080/",
          "height": 464
        }
      },
      "outputs": [
        {
          "output_type": "execute_result",
          "data": {
            "text/plain": [
              "<Axes: >"
            ]
          },
          "metadata": {},
          "execution_count": 53
        },
        {
          "output_type": "display_data",
          "data": {
            "text/plain": [
              "<Figure size 640x480 with 1 Axes>"
            ],
            "image/png": "[encoded data removed]"
          },
          "metadata": {}
        }
      ],
      "source": [
        "df['floorNum'].value_counts().sort_index().plot(kind='bar')"
      ]
    },
    {
      "cell_type": "code",
      "execution_count": 54,
      "id": "d7b71b07",
      "metadata": {
        "id": "d7b71b07",
        "outputId": "1376d86f-4525-493c-bab7-f87c161820e3",
        "colab": {
          "base_uri": "https://localhost:8080/",
          "height": 428
        }
      },
      "outputs": [
        {
          "output_type": "execute_result",
          "data": {
            "text/plain": [
              "<Axes: ylabel='floorNum'>"
            ]
          },
          "metadata": {},
          "execution_count": 54
        },
        {
          "output_type": "display_data",
          "data": {
            "text/plain": [
              "<Figure size 640x480 with 1 Axes>"
            ],
            "image/png": "[encoded data removed]"
          },
          "metadata": {}
        }
      ],
      "source": [
        "sns.boxplot(df['floorNum'], color='lightgreen')"
      ]
    },
    {
      "cell_type": "markdown",
      "id": "4267239b",
      "metadata": {
        "id": "4267239b"
      },
      "source": [
        "- The majority of the properties lie between the ground floor (0) and the 25th floor.\n",
        "- Floors 1 to 4 are particularly common, with the 3rd floor being the most frequent.\n",
        "- There are a few properties located at higher floors, but their frequency is much lower.\n",
        "- The box plot reveals that the majority of the properties are concentrated around the lower floors. The interquartile range (IQR) lies between approximately the 2nd and 10th floors.\n",
        "- Data points beyond the \"whiskers\" of the box plot, especially on the higher side, indicate potential outliers."
      ]
    },
    {
      "cell_type": "markdown",
      "id": "1e823d7e",
      "metadata": {
        "id": "1e823d7e"
      },
      "source": [
        "### facing"
      ]
    },
    {
      "cell_type": "code",
      "execution_count": 55,
      "id": "c51cb12e",
      "metadata": {
        "id": "c51cb12e",
        "outputId": "090fc846-6cfa-4cfc-aa95-3d387712827a",
        "colab": {
          "base_uri": "https://localhost:8080/"
        }
      },
      "outputs": [
        {
          "output_type": "execute_result",
          "data": {
            "text/plain": [
              "1045"
            ]
          },
          "metadata": {},
          "execution_count": 55
        }
      ],
      "source": [
        "df['facing'].isnull().sum()"
      ]
    },
    {
      "cell_type": "code",
      "execution_count": 56,
      "id": "a5bbac41",
      "metadata": {
        "id": "a5bbac41"
      },
      "outputs": [],
      "source": [
        "df['facing'].fillna('NA',inplace=True)"
      ]
    },
    {
      "cell_type": "code",
      "execution_count": 57,
      "id": "98aed58b",
      "metadata": {
        "id": "98aed58b",
        "outputId": "51a79e52-d388-4d8b-d677-928f81e00c30",
        "colab": {
          "base_uri": "https://localhost:8080/"
        }
      },
      "outputs": [
        {
          "output_type": "execute_result",
          "data": {
            "text/plain": [
              "NA            1045\n",
              "East           623\n",
              "North-East     623\n",
              "North          387\n",
              "West           249\n",
              "South          231\n",
              "North-West     193\n",
              "South-East     173\n",
              "South-West     153\n",
              "Name: facing, dtype: int64"
            ]
          },
          "metadata": {},
          "execution_count": 57
        }
      ],
      "source": [
        "df['facing'].value_counts()"
      ]
    },
    {
      "cell_type": "markdown",
      "id": "3e2ba0a4",
      "metadata": {
        "id": "3e2ba0a4"
      },
      "source": [
        "### agePossession"
      ]
    },
    {
      "cell_type": "code",
      "execution_count": 58,
      "id": "cbe070c9",
      "metadata": {
        "id": "cbe070c9",
        "outputId": "85cd55c6-9dd1-400a-f1dc-1f5c6364f7ee",
        "colab": {
          "base_uri": "https://localhost:8080/"
        }
      },
      "outputs": [
        {
          "output_type": "execute_result",
          "data": {
            "text/plain": [
              "0"
            ]
          },
          "metadata": {},
          "execution_count": 58
        }
      ],
      "source": [
        "df['agePossession'].isnull().sum()"
      ]
    },
    {
      "cell_type": "code",
      "execution_count": 59,
      "id": "fb180d39",
      "metadata": {
        "id": "fb180d39",
        "outputId": "d19ad5f0-0bbe-4366-ade7-112719f83504",
        "colab": {
          "base_uri": "https://localhost:8080/"
        }
      },
      "outputs": [
        {
          "output_type": "execute_result",
          "data": {
            "text/plain": [
              "Relatively New        1646\n",
              "New Property           593\n",
              "Moderately Old         563\n",
              "Undefined              306\n",
              "Old Property           303\n",
              "Under Construction     266\n",
              "Name: agePossession, dtype: int64"
            ]
          },
          "metadata": {},
          "execution_count": 59
        }
      ],
      "source": [
        "df['agePossession'].value_counts()"
      ]
    },
    {
      "cell_type": "markdown",
      "id": "ff6c5368",
      "metadata": {
        "id": "ff6c5368"
      },
      "source": [
        "### areas"
      ]
    },
    {
      "cell_type": "code",
      "execution_count": 60,
      "id": "4147d7f5",
      "metadata": {
        "id": "4147d7f5",
        "outputId": "f80b7bd1-496c-427d-ba74-23f13266fcdb",
        "colab": {
          "base_uri": "https://localhost:8080/"
        }
      },
      "outputs": [
        {
          "output_type": "execute_result",
          "data": {
            "text/plain": [
              "1802"
            ]
          },
          "metadata": {},
          "execution_count": 60
        }
      ],
      "source": [
        "# super built up area\n",
        "df['super_built_up_area'].isnull().sum()"
      ]
    },
    {
      "cell_type": "code",
      "execution_count": 61,
      "id": "2d82347a",
      "metadata": {
        "id": "2d82347a",
        "outputId": "fc22fa87-91df-440c-f00a-1b99f142fa95",
        "colab": {
          "base_uri": "https://localhost:8080/"
        }
      },
      "outputs": [
        {
          "output_type": "execute_result",
          "data": {
            "text/plain": [
              "count     1875.000000\n",
              "mean      1925.237627\n",
              "std        764.172177\n",
              "min         89.000000\n",
              "25%       1479.500000\n",
              "50%       1828.000000\n",
              "75%       2215.000000\n",
              "max      10000.000000\n",
              "Name: super_built_up_area, dtype: float64"
            ]
          },
          "metadata": {},
          "execution_count": 61
        }
      ],
      "source": [
        "df['super_built_up_area'].describe()"
      ]
    },
    {
      "cell_type": "code",
      "execution_count": 62,
      "id": "8a98a800",
      "metadata": {
        "id": "8a98a800",
        "outputId": "2bd2289a-55f0-44d4-e2ff-73dad7e17348",
        "colab": {
          "base_uri": "https://localhost:8080/",
          "height": 467
        }
      },
      "outputs": [
        {
          "output_type": "execute_result",
          "data": {
            "text/plain": [
              "<Axes: xlabel='super_built_up_area', ylabel='Count'>"
            ]
          },
          "metadata": {},
          "execution_count": 62
        },
        {
          "output_type": "display_data",
          "data": {
            "text/plain": [
              "<Figure size 640x480 with 1 Axes>"
            ],
            "image/png": "[encoded data removed]"
          },
          "metadata": {}
        }
      ],
      "source": [
        "sns.histplot(df['super_built_up_area'].dropna(), bins=50, color='skyblue', kde=True)"
      ]
    },
    {
      "cell_type": "code",
      "execution_count": 63,
      "id": "c3ec9322",
      "metadata": {
        "id": "c3ec9322",
        "outputId": "b72f89bd-7dd2-4d98-c523-e1c1a3c74e7e",
        "colab": {
          "base_uri": "https://localhost:8080/",
          "height": 428
        }
      },
      "outputs": [
        {
          "output_type": "execute_result",
          "data": {
            "text/plain": [
              "<Axes: ylabel='super_built_up_area'>"
            ]
          },
          "metadata": {},
          "execution_count": 63
        },
        {
          "output_type": "display_data",
          "data": {
            "text/plain": [
              "<Figure size 640x480 with 1 Axes>"
            ],
            "image/png": "[encoded data removed]"
          },
          "metadata": {}
        }
      ],
      "source": [
        "sns.boxplot(df['super_built_up_area'].dropna(), color='lightgreen')"
      ]
    },
    {
      "cell_type": "markdown",
      "id": "e8fa985d",
      "metadata": {
        "id": "e8fa985d"
      },
      "source": [
        "- Most properties have a super built-up area ranging between approximately 1,000 sq.ft and 2,500 sq.ft.\n",
        "- There are a few properties with a significantly larger area, leading to a right-skewed distribution.\n",
        "- The interquartile range (IQR) lies between roughly 1,480 sq.ft and 2,215 sq.ft, indicating that the middle 50% of the properties fall within this range.\n",
        "- There are several data points beyond the upper \"whisker\" of the box plot, indicating potential outliers. These are properties with an unusually large super built-up area."
      ]
    },
    {
      "cell_type": "code",
      "execution_count": 64,
      "id": "d1259daf",
      "metadata": {
        "id": "d1259daf",
        "outputId": "1366ab28-1d26-4893-c71e-07c533c50781",
        "colab": {
          "base_uri": "https://localhost:8080/"
        }
      },
      "outputs": [
        {
          "output_type": "execute_result",
          "data": {
            "text/plain": [
              "1987"
            ]
          },
          "metadata": {},
          "execution_count": 64
        }
      ],
      "source": [
        "# built up area\n",
        "df['built_up_area'].isnull().sum()"
      ]
    },
    {
      "cell_type": "code",
      "execution_count": 65,
      "id": "80e3c3f3",
      "metadata": {
        "id": "80e3c3f3",
        "outputId": "bc8d8794-4ede-4e23-dfbb-6924baae26b4",
        "colab": {
          "base_uri": "https://localhost:8080/"
        }
      },
      "outputs": [
        {
          "output_type": "execute_result",
          "data": {
            "text/plain": [
              "count      1690.000000\n",
              "mean       2379.585816\n",
              "std       17942.880237\n",
              "min           2.000000\n",
              "25%        1100.000000\n",
              "50%        1650.000000\n",
              "75%        2400.000000\n",
              "max      737147.000000\n",
              "Name: built_up_area, dtype: float64"
            ]
          },
          "metadata": {},
          "execution_count": 65
        }
      ],
      "source": [
        "df['built_up_area'].describe()"
      ]
    },
    {
      "cell_type": "code",
      "execution_count": 66,
      "id": "625c2d17",
      "metadata": {
        "id": "625c2d17",
        "outputId": "a618a7ef-0a9f-42b1-f495-ca586faefcdb",
        "colab": {
          "base_uri": "https://localhost:8080/",
          "height": 467
        }
      },
      "outputs": [
        {
          "output_type": "execute_result",
          "data": {
            "text/plain": [
              "<Axes: xlabel='built_up_area', ylabel='Count'>"
            ]
          },
          "metadata": {},
          "execution_count": 66
        },
        {
          "output_type": "display_data",
          "data": {
            "text/plain": [
              "<Figure size 640x480 with 1 Axes>"
            ],
            "image/png": "[encoded data removed]"
          },
          "metadata": {}
        }
      ],
      "source": [
        "sns.histplot(df['built_up_area'].dropna(), bins=50, color='skyblue', kde=False)"
      ]
    },
    {
      "cell_type": "code",
      "execution_count": 67,
      "id": "d97261e0",
      "metadata": {
        "id": "d97261e0",
        "outputId": "9825d9bd-8d48-407a-d4ed-71a1ff789f61",
        "colab": {
          "base_uri": "https://localhost:8080/",
          "height": 428
        }
      },
      "outputs": [
        {
          "output_type": "execute_result",
          "data": {
            "text/plain": [
              "<Axes: ylabel='built_up_area'>"
            ]
          },
          "metadata": {},
          "execution_count": 67
        },
        {
          "output_type": "display_data",
          "data": {
            "text/plain": [
              "<Figure size 640x480 with 1 Axes>"
            ],
            "image/png": "[encoded data removed]"
          },
          "metadata": {}
        }
      ],
      "source": [
        "sns.boxplot(df['built_up_area'].dropna(), color='lightgreen')"
      ]
    },
    {
      "cell_type": "markdown",
      "id": "02ef3001",
      "metadata": {
        "id": "02ef3001"
      },
      "source": [
        "- Most properties have a built-up area ranging roughly between 500 sq.ft and 3,500 sq.ft.\n",
        "- There are very few properties with a much larger built-up area, leading to a highly right-skewed distribution.\n",
        "- The box plot confirms the presence of significant outliers on the higher side. The data's interquartile range (IQR) is relatively compact, but the \"whiskers\" of the box plot are stretched due to the outliers.\n",
        "\n",
        "\n",
        "The presence of extreme values, especially on the higher side, suggests that there may be outliers or data errors. This could also be due to some properties being exceptionally large, like a commercial complex or an entire building being listed."
      ]
    },
    {
      "cell_type": "code",
      "execution_count": 68,
      "id": "b3e8bdc5",
      "metadata": {
        "id": "b3e8bdc5",
        "outputId": "425d8047-ce4c-412c-be70-dadc98cd88fa",
        "colab": {
          "base_uri": "https://localhost:8080/"
        }
      },
      "outputs": [
        {
          "output_type": "execute_result",
          "data": {
            "text/plain": [
              "1805"
            ]
          },
          "metadata": {},
          "execution_count": 68
        }
      ],
      "source": [
        "# carpet area\n",
        "df['carpet_area'].isnull().sum()"
      ]
    },
    {
      "cell_type": "code",
      "execution_count": 69,
      "id": "fa9e67bf",
      "metadata": {
        "id": "fa9e67bf",
        "outputId": "ca3e4d58-2daf-405e-864a-bced2668f0a9",
        "colab": {
          "base_uri": "https://localhost:8080/"
        }
      },
      "outputs": [
        {
          "output_type": "execute_result",
          "data": {
            "text/plain": [
              "count      1872.000000\n",
              "mean       2529.179507\n",
              "std       22799.836449\n",
              "min          15.000000\n",
              "25%         843.000000\n",
              "50%        1300.000000\n",
              "75%        1790.000000\n",
              "max      607936.000000\n",
              "Name: carpet_area, dtype: float64"
            ]
          },
          "metadata": {},
          "execution_count": 69
        }
      ],
      "source": [
        "df['carpet_area'].describe()"
      ]
    },
    {
      "cell_type": "code",
      "execution_count": 70,
      "id": "ba3f54f4",
      "metadata": {
        "id": "ba3f54f4",
        "outputId": "09950ce5-152a-4d55-8972-a1ef7c38adbd",
        "colab": {
          "base_uri": "https://localhost:8080/",
          "height": 466
        }
      },
      "outputs": [
        {
          "output_type": "execute_result",
          "data": {
            "text/plain": [
              "<Axes: xlabel='carpet_area', ylabel='Count'>"
            ]
          },
          "metadata": {},
          "execution_count": 70
        },
        {
          "output_type": "display_data",
          "data": {
            "text/plain": [
              "<Figure size 640x480 with 1 Axes>"
            ],
            "image/png": "[encoded data removed]"
          },
          "metadata": {}
        }
      ],
      "source": [
        "sns.histplot(df['carpet_area'].dropna(), bins=50, color='skyblue', kde=False)"
      ]
    },
    {
      "cell_type": "code",
      "execution_count": 71,
      "id": "52a48184",
      "metadata": {
        "id": "52a48184",
        "outputId": "311428b0-44a1-4891-ff87-59f9bc96efee",
        "colab": {
          "base_uri": "https://localhost:8080/",
          "height": 428
        }
      },
      "outputs": [
        {
          "output_type": "execute_result",
          "data": {
            "text/plain": [
              "<Axes: ylabel='carpet_area'>"
            ]
          },
          "metadata": {},
          "execution_count": 71
        },
        {
          "output_type": "display_data",
          "data": {
            "text/plain": [
              "<Figure size 640x480 with 1 Axes>"
            ],
            "image/png": "[encoded data removed]"
          },
          "metadata": {}
        }
      ],
      "source": [
        "sns.boxplot(df['carpet_area'].dropna(), color='lightgreen')"
      ]
    },
    {
      "cell_type": "code",
      "execution_count": 72,
      "id": "62b73abe",
      "metadata": {
        "id": "62b73abe",
        "outputId": "2f5c00b7-772b-426d-8aef-a9ea2eb90ad7",
        "colab": {
          "base_uri": "https://localhost:8080/",
          "height": 424
        }
      },
      "outputs": [
        {
          "output_type": "execute_result",
          "data": {
            "text/plain": [
              "      study room  servant room  store room  pooja room  others  \\\n",
              "0              0             0           0           0       1   \n",
              "1              0             1           0           1       0   \n",
              "2              1             1           0           1       1   \n",
              "3              1             0           0           0       0   \n",
              "4              0             0           0           0       0   \n",
              "...          ...           ...         ...         ...     ...   \n",
              "3798           0             0           0           0       0   \n",
              "3799           0             0           0           1       0   \n",
              "3800           0             0           0           0       0   \n",
              "3801           1             0           0           0       0   \n",
              "3802           0             1           0           0       1   \n",
              "\n",
              "      furnishing_type  luxury_score  \n",
              "0                   0            72  \n",
              "1                   0           174  \n",
              "2                   1            49  \n",
              "3                   0            65  \n",
              "4                   2            31  \n",
              "...               ...           ...  \n",
              "3798                0            49  \n",
              "3799                2             0  \n",
              "3800                0            49  \n",
              "3801                0           102  \n",
              "3802                2             8  \n",
              "\n",
              "[3677 rows x 7 columns]"
            ],
            "text/html": [
              "\n",
              "  <div id=\"df-02465c12-d1b9-42eb-b821-015929b79c4a\" class=\"colab-df-container\">\n",
              "    <div>\n",
              "<style scoped>\n",
              "    .dataframe tbody tr th:only-of-type {\n",
              "        vertical-align: middle;\n",
              "    }\n",
              "\n",
              "    .dataframe tbody tr th {\n",
              "        vertical-align: top;\n",
              "    }\n",
              "\n",
              "    .dataframe thead th {\n",
              "        text-align: right;\n",
              "    }\n",
              "</style>\n",
              "<table border=\"1\" class=\"dataframe\">\n",
              "  <thead>\n",
              "    <tr style=\"text-align: right;\">\n",
              "      <th></th>\n",
              "      <th>study room</th>\n",
              "      <th>servant room</th>\n",
              "      <th>store room</th>\n",
              "      <th>pooja room</th>\n",
              "      <th>others</th>\n",
              "      <th>furnishing_type</th>\n",
              "      <th>luxury_score</th>\n",
              "    </tr>\n",
              "  </thead>\n",
              "  <tbody>\n",
              "    <tr>\n",
              "      <th>0</th>\n",
              "      <td>0</td>\n",
              "      <td>0</td>\n",
              "      <td>0</td>\n",
              "      <td>0</td>\n",
              "      <td>1</td>\n",
              "      <td>0</td>\n",
              "      <td>72</td>\n",
              "    </tr>\n",
              "    <tr>\n",
              "      <th>1</th>\n",
              "      <td>0</td>\n",
              "      <td>1</td>\n",
              "      <td>0</td>\n",
              "      <td>1</td>\n",
              "      <td>0</td>\n",
              "      <td>0</td>\n",
              "      <td>174</td>\n",
              "    </tr>\n",
              "    <tr>\n",
              "      <th>2</th>\n",
              "      <td>1</td>\n",
              "      <td>1</td>\n",
              "      <td>0</td>\n",
              "      <td>1</td>\n",
              "      <td>1</td>\n",
              "      <td>1</td>\n",
              "      <td>49</td>\n",
              "    </tr>\n",
              "    <tr>\n",
              "      <th>3</th>\n",
              "      <td>1</td>\n",
              "      <td>0</td>\n",
              "      <td>0</td>\n",
              "      <td>0</td>\n",
              "      <td>0</td>\n",
              "      <td>0</td>\n",
              "      <td>65</td>\n",
              "    </tr>\n",
              "    <tr>\n",
              "      <th>4</th>\n",
              "      <td>0</td>\n",
              "      <td>0</td>\n",
              "      <td>0</td>\n",
              "      <td>0</td>\n",
              "      <td>0</td>\n",
              "      <td>2</td>\n",
              "      <td>31</td>\n",
              "    </tr>\n",
              "    <tr>\n",
              "      <th>...</th>\n",
              "      <td>...</td>\n",
              "      <td>...</td>\n",
              "      <td>...</td>\n",
              "      <td>...</td>\n",
              "      <td>...</td>\n",
              "      <td>...</td>\n",
              "      <td>...</td>\n",
              "    </tr>\n",
              "    <tr>\n",
              "      <th>3798</th>\n",
              "      <td>0</td>\n",
              "      <td>0</td>\n",
              "      <td>0</td>\n",
              "      <td>0</td>\n",
              "      <td>0</td>\n",
              "      <td>0</td>\n",
              "      <td>49</td>\n",
              "    </tr>\n",
              "    <tr>\n",
              "      <th>3799</th>\n",
              "      <td>0</td>\n",
              "      <td>0</td>\n",
              "      <td>0</td>\n",
              "      <td>1</td>\n",
              "      <td>0</td>\n",
              "      <td>2</td>\n",
              "      <td>0</td>\n",
              "    </tr>\n",
              "    <tr>\n",
              "      <th>3800</th>\n",
              "      <td>0</td>\n",
              "      <td>0</td>\n",
              "      <td>0</td>\n",
              "      <td>0</td>\n",
              "      <td>0</td>\n",
              "      <td>0</td>\n",
              "      <td>49</td>\n",
              "    </tr>\n",
              "    <tr>\n",
              "      <th>3801</th>\n",
              "      <td>1</td>\n",
              "      <td>0</td>\n",
              "      <td>0</td>\n",
              "      <td>0</td>\n",
              "      <td>0</td>\n",
              "      <td>0</td>\n",
              "      <td>102</td>\n",
              "    </tr>\n",
              "    <tr>\n",
              "      <th>3802</th>\n",
              "      <td>0</td>\n",
              "      <td>1</td>\n",
              "      <td>0</td>\n",
              "      <td>0</td>\n",
              "      <td>1</td>\n",
              "      <td>2</td>\n",
              "      <td>8</td>\n",
              "    </tr>\n",
              "  </tbody>\n",
              "</table>\n",
              "<p>3677 rows × 7 columns</p>\n",
              "</div>\n",
              "    <div class=\"colab-df-buttons\">\n",
              "\n",
              "  <div class=\"colab-df-container\">\n",
              "    <button class=\"colab-df-convert\" onclick=\"convertToInteractive('df-02465c12-d1b9-42eb-b821-015929b79c4a')\"\n",
              "            title=\"Convert this dataframe to an interactive table.\"\n",
              "            style=\"display:none;\">\n",
              "\n",
              "  <svg xmlns=\"http://www.w3.org/2000/svg\" height=\"24px\" viewBox=\"0 -960 960 960\">\n",
              "    <path d=\"M120-120v-720h720v720H120Zm60-500h600v-160H180v160Zm220 220h160v-160H400v160Zm0 220h160v-160H400v160ZM180-400h160v-160H180v160Zm440 0h160v-160H620v160ZM180-180h160v-160H180v160Zm440 0h160v-160H620v160Z\"/>\n",
              "  </svg>\n",
              "    </button>\n",
              "\n",
              "  <style>\n",
              "    .colab-df-container {\n",
              "      display:flex;\n",
              "      gap: 12px;\n",
              "    }\n",
              "\n",
              "    .colab-df-convert {\n",
              "      background-color: #E8F0FE;\n",
              "      border: none;\n",
              "      border-radius: 50%;\n",
              "      cursor: pointer;\n",
              "      display: none;\n",
              "      fill: #1967D2;\n",
              "      height: 32px;\n",
              "      padding: 0 0 0 0;\n",
              "      width: 32px;\n",
              "    }\n",
              "\n",
              "    .colab-df-convert:hover {\n",
              "      background-color: #E2EBFA;\n",
              "      box-shadow: 0px 1px 2px rgba(60, 64, 67, 0.3), 0px 1px 3px 1px rgba(60, 64, 67, 0.15);\n",
              "      fill: #174EA6;\n",
              "    }\n",
              "\n",
              "    .colab-df-buttons div {\n",
              "      margin-bottom: 4px;\n",
              "    }\n",
              "\n",
              "    [theme=dark] .colab-df-convert {\n",
              "      background-color: #3B4455;\n",
              "      fill: #D2E3FC;\n",
              "    }\n",
              "\n",
              "    [theme=dark] .colab-df-convert:hover {\n",
              "      background-color: #434B5C;\n",
              "      box-shadow: 0px 1px 3px 1px rgba(0, 0, 0, 0.15);\n",
              "      filter: drop-shadow(0px 1px 2px rgba(0, 0, 0, 0.3));\n",
              "      fill: #FFFFFF;\n",
              "    }\n",
              "  </style>\n",
              "\n",
              "    <script>\n",
              "      const buttonEl =\n",
              "        document.querySelector('#df-02465c12-d1b9-42eb-b821-015929b79c4a button.colab-df-convert');\n",
              "      buttonEl.style.display =\n",
              "        google.colab.kernel.accessAllowed ? 'block' : 'none';\n",
              "\n",
              "      async function convertToInteractive(key) {\n",
              "        const element = document.querySelector('#df-02465c12-d1b9-42eb-b821-015929b79c4a');\n",
              "        const dataTable =\n",
              "          await google.colab.kernel.invokeFunction('convertToInteractive',\n",
              "                                                    [key], {});\n",
              "        if (!dataTable) return;\n",
              "\n",
              "        const docLinkHtml = 'Like what you see? Visit the ' +\n",
              "          '<a target=\"_blank\" href=https://colab.research.google.com/notebooks/data_table.ipynb>data table notebook</a>'\n",
              "          + ' to learn more about interactive tables.';\n",
              "        element.innerHTML = '';\n",
              "        dataTable['output_type'] = 'display_data';\n",
              "        await google.colab.output.renderOutput(dataTable, element);\n",
              "        const docLink = document.createElement('div');\n",
              "        docLink.innerHTML = docLinkHtml;\n",
              "        element.appendChild(docLink);\n",
              "      }\n",
              "    </script>\n",
              "  </div>\n",
              "\n",
              "\n",
              "<div id=\"df-21d6a477-781e-44bf-8e60-d84fb865c25d\">\n",
              "  <button class=\"colab-df-quickchart\" onclick=\"quickchart('df-21d6a477-781e-44bf-8e60-d84fb865c25d')\"\n",
              "            title=\"Suggest charts\"\n",
              "            style=\"display:none;\">\n",
              "\n",
              "<svg xmlns=\"http://www.w3.org/2000/svg\" height=\"24px\"viewBox=\"0 0 24 24\"\n",
              "     width=\"24px\">\n",
              "    <g>\n",
              "        <path d=\"M19 3H5c-1.1 0-2 .9-2 2v14c0 1.1.9 2 2 2h14c1.1 0 2-.9 2-2V5c0-1.1-.9-2-2-2zM9 17H7v-7h2v7zm4 0h-2V7h2v10zm4 0h-2v-4h2v4z\"/>\n",
              "    </g>\n",
              "</svg>\n",
              "  </button>\n",
              "\n",
              "<style>\n",
              "  .colab-df-quickchart {\n",
              "      --bg-color: #E8F0FE;\n",
              "      --fill-color: #1967D2;\n",
              "      --hover-bg-color: #E2EBFA;\n",
              "      --hover-fill-color: #174EA6;\n",
              "      --disabled-fill-color: #AAA;\n",
              "      --disabled-bg-color: #DDD;\n",
              "  }\n",
              "\n",
              "  [theme=dark] .colab-df-quickchart {\n",
              "      --bg-color: #3B4455;\n",
              "      --fill-color: #D2E3FC;\n",
              "      --hover-bg-color: #434B5C;\n",
              "      --hover-fill-color: #FFFFFF;\n",
              "      --disabled-bg-color: #3B4455;\n",
              "      --disabled-fill-color: #666;\n",
              "  }\n",
              "\n",
              "  .colab-df-quickchart {\n",
              "    background-color: var(--bg-color);\n",
              "    border: none;\n",
              "    border-radius: 50%;\n",
              "    cursor: pointer;\n",
              "    display: none;\n",
              "    fill: var(--fill-color);\n",
              "    height: 32px;\n",
              "    padding: 0;\n",
              "    width: 32px;\n",
              "  }\n",
              "\n",
              "  .colab-df-quickchart:hover {\n",
              "    background-color: var(--hover-bg-color);\n",
              "    box-shadow: 0 1px 2px rgba(60, 64, 67, 0.3), 0 1px 3px 1px rgba(60, 64, 67, 0.15);\n",
              "    fill: var(--button-hover-fill-color);\n",
              "  }\n",
              "\n",
              "  .colab-df-quickchart-complete:disabled,\n",
              "  .colab-df-quickchart-complete:disabled:hover {\n",
              "    background-color: var(--disabled-bg-color);\n",
              "    fill: var(--disabled-fill-color);\n",
              "    box-shadow: none;\n",
              "  }\n",
              "\n",
              "  .colab-df-spinner {\n",
              "    border: 2px solid var(--fill-color);\n",
              "    border-color: transparent;\n",
              "    border-bottom-color: var(--fill-color);\n",
              "    animation:\n",
              "      spin 1s steps(1) infinite;\n",
              "  }\n",
              "\n",
              "  @keyframes spin {\n",
              "    0% {\n",
              "      border-color: transparent;\n",
              "      border-bottom-color: var(--fill-color);\n",
              "      border-left-color: var(--fill-color);\n",
              "    }\n",
              "    20% {\n",
              "      border-color: transparent;\n",
              "      border-left-color: var(--fill-color);\n",
              "      border-top-color: var(--fill-color);\n",
              "    }\n",
              "    30% {\n",
              "      border-color: transparent;\n",
              "      border-left-color: var(--fill-color);\n",
              "      border-top-color: var(--fill-color);\n",
              "      border-right-color: var(--fill-color);\n",
              "    }\n",
              "    40% {\n",
              "      border-color: transparent;\n",
              "      border-right-color: var(--fill-color);\n",
              "      border-top-color: var(--fill-color);\n",
              "    }\n",
              "    60% {\n",
              "      border-color: transparent;\n",
              "      border-right-color: var(--fill-color);\n",
              "    }\n",
              "    80% {\n",
              "      border-color: transparent;\n",
              "      border-right-color: var(--fill-color);\n",
              "      border-bottom-color: var(--fill-color);\n",
              "    }\n",
              "    90% {\n",
              "      border-color: transparent;\n",
              "      border-bottom-color: var(--fill-color);\n",
              "    }\n",
              "  }\n",
              "</style>\n",
              "\n",
              "  <script>\n",
              "    async function quickchart(key) {\n",
              "      const quickchartButtonEl =\n",
              "        document.querySelector('#' + key + ' button');\n",
              "      quickchartButtonEl.disabled = true;  // To prevent multiple clicks.\n",
              "      quickchartButtonEl.classList.add('colab-df-spinner');\n",
              "      try {\n",
              "        const charts = await google.colab.kernel.invokeFunction(\n",
              "            'suggestCharts', [key], {});\n",
              "      } catch (error) {\n",
              "        console.error('Error during call to suggestCharts:', error);\n",
              "      }\n",
              "      quickchartButtonEl.classList.remove('colab-df-spinner');\n",
              "      quickchartButtonEl.classList.add('colab-df-quickchart-complete');\n",
              "    }\n",
              "    (() => {\n",
              "      let quickchartButtonEl =\n",
              "        document.querySelector('#df-21d6a477-781e-44bf-8e60-d84fb865c25d button');\n",
              "      quickchartButtonEl.style.display =\n",
              "        google.colab.kernel.accessAllowed ? 'block' : 'none';\n",
              "    })();\n",
              "  </script>\n",
              "</div>\n",
              "\n",
              "    </div>\n",
              "  </div>\n"
            ]
          },
          "metadata": {},
          "execution_count": 72
        }
      ],
      "source": [
        "df.iloc[:,16:]"
      ]
    },
    {
      "cell_type": "markdown",
      "id": "e9c5a831",
      "metadata": {
        "id": "e9c5a831"
      },
      "source": [
        "### additional rooms"
      ]
    },
    {
      "cell_type": "code",
      "execution_count": 73,
      "id": "a4b9a9de",
      "metadata": {
        "id": "a4b9a9de",
        "outputId": "ef21a145-2354-4adc-e8b7-25fac5fadf84",
        "colab": {
          "base_uri": "https://localhost:8080/",
          "height": 955
        }
      },
      "outputs": [
        {
          "output_type": "display_data",
          "data": {
            "text/plain": [
              "<Figure size 2000x1200 with 5 Axes>"
            ],
            "image/png": "[encoded data removed]"
          },
          "metadata": {}
        }
      ],
      "source": [
        "plt.figure(figsize=(20, 12))\n",
        "\n",
        "# Create a subplot of pie charts for each room type\n",
        "for idx, room in enumerate(['study room','servant room','store room','pooja room','others'], 1):\n",
        "    ax = plt.subplot(2, 3, idx)\n",
        "    df[room].value_counts().plot.pie(autopct='%1.1f%%', startangle=90, ax=ax)\n",
        "    plt.title(f'Distribution of {room.title()}')\n",
        "    plt.ylabel('')\n",
        "\n",
        "plt.tight_layout()\n",
        "plt.show()"
      ]
    },
    {
      "cell_type": "markdown",
      "id": "5f52f98c",
      "metadata": {
        "id": "5f52f98c"
      },
      "source": [
        "### furnishing_type"
      ]
    },
    {
      "cell_type": "code",
      "execution_count": 74,
      "id": "264ba490",
      "metadata": {
        "id": "264ba490",
        "outputId": "16c3ec69-8b21-4ca6-fccf-ef60680ff2bf",
        "colab": {
          "base_uri": "https://localhost:8080/"
        }
      },
      "outputs": [
        {
          "output_type": "execute_result",
          "data": {
            "text/plain": [
              "0    2411\n",
              "2    1058\n",
              "1     208\n",
              "Name: furnishing_type, dtype: int64"
            ]
          },
          "metadata": {},
          "execution_count": 74
        }
      ],
      "source": [
        "df['furnishing_type'].value_counts()"
      ]
    },
    {
      "cell_type": "code",
      "execution_count": 75,
      "id": "0fb27980",
      "metadata": {
        "id": "0fb27980",
        "outputId": "b93059ed-e479-44a5-a106-e9c71c8a2faa",
        "colab": {
          "base_uri": "https://localhost:8080/",
          "height": 423
        }
      },
      "outputs": [
        {
          "output_type": "execute_result",
          "data": {
            "text/plain": [
              "<Axes: ylabel='furnishing_type'>"
            ]
          },
          "metadata": {},
          "execution_count": 75
        },
        {
          "output_type": "display_data",
          "data": {
            "text/plain": [
              "<Figure size 640x480 with 1 Axes>"
            ],
            "image/png": "[encoded data removed]"
          },
          "metadata": {}
        }
      ],
      "source": [
        "df['furnishing_type'].value_counts().plot(kind='pie',autopct='%0.2f%%')"
      ]
    },
    {
      "cell_type": "markdown",
      "id": "e387801c",
      "metadata": {
        "id": "e387801c"
      },
      "source": [
        "### luxury score"
      ]
    },
    {
      "cell_type": "code",
      "execution_count": 76,
      "id": "e6fef53d",
      "metadata": {
        "id": "e6fef53d",
        "outputId": "0b66f822-76c3-4831-be3e-bb58c12b029e",
        "colab": {
          "base_uri": "https://localhost:8080/"
        }
      },
      "outputs": [
        {
          "output_type": "execute_result",
          "data": {
            "text/plain": [
              "0"
            ]
          },
          "metadata": {},
          "execution_count": 76
        }
      ],
      "source": [
        "df['luxury_score'].isnull().sum()"
      ]
    },
    {
      "cell_type": "code",
      "execution_count": 77,
      "id": "2e73221b",
      "metadata": {
        "id": "2e73221b",
        "outputId": "eff569af-4c3d-4ec5-92ac-b58ebaae5488",
        "colab": {
          "base_uri": "https://localhost:8080/"
        }
      },
      "outputs": [
        {
          "output_type": "execute_result",
          "data": {
            "text/plain": [
              "count    3677.000000\n",
              "mean       71.512918\n",
              "std        53.059082\n",
              "min         0.000000\n",
              "25%        31.000000\n",
              "50%        59.000000\n",
              "75%       110.000000\n",
              "max       174.000000\n",
              "Name: luxury_score, dtype: float64"
            ]
          },
          "metadata": {},
          "execution_count": 77
        }
      ],
      "source": [
        "df['luxury_score'].describe()"
      ]
    },
    {
      "cell_type": "code",
      "execution_count": 78,
      "id": "95e272d0",
      "metadata": {
        "id": "95e272d0",
        "outputId": "63924857-0112-4ee0-81dc-af415e571969",
        "colab": {
          "base_uri": "https://localhost:8080/",
          "height": 467
        }
      },
      "outputs": [
        {
          "output_type": "execute_result",
          "data": {
            "text/plain": [
              "<Axes: xlabel='luxury_score', ylabel='Count'>"
            ]
          },
          "metadata": {},
          "execution_count": 78
        },
        {
          "output_type": "display_data",
          "data": {
            "text/plain": [
              "<Figure size 640x480 with 1 Axes>"
            ],
            "image/png": "[encoded data removed]"
          },
          "metadata": {}
        }
      ],
      "source": [
        "sns.histplot(df['luxury_score'], bins=50, color='skyblue', kde=True)"
      ]
    },
    {
      "cell_type": "code",
      "execution_count": 79,
      "id": "95061cb0",
      "metadata": {
        "id": "95061cb0",
        "outputId": "c53d315d-b645-4183-d0d7-f357af6622ac",
        "colab": {
          "base_uri": "https://localhost:8080/",
          "height": 428
        }
      },
      "outputs": [
        {
          "output_type": "execute_result",
          "data": {
            "text/plain": [
              "<Axes: ylabel='luxury_score'>"
            ]
          },
          "metadata": {},
          "execution_count": 79
        },
        {
          "output_type": "display_data",
          "data": {
            "text/plain": [
              "<Figure size 640x480 with 1 Axes>"
            ],
            "image/png": "[encoded data removed]"
          },
          "metadata": {}
        }
      ],
      "source": [
        "sns.boxplot(df['luxury_score'], color='lightgreen')"
      ]
    },
    {
      "cell_type": "markdown",
      "id": "f03fdea8",
      "metadata": {
        "id": "f03fdea8"
      },
      "source": [
        "The luxury score distribution has multiple peaks, suggesting a multi-modal distribution. There's a significant number of properties with lower luxury scores (around 0-50), and another peak is observed around the 110-130 range.\n",
        "\n",
        "The box plot reveals that the majority of the properties have luxury scores between approximately 30 and 110. The interquartile range (IQR) lies between these values."
      ]
    },
    {
      "cell_type": "code",
      "execution_count": 80,
      "id": "67a66f1e",
      "metadata": {
        "id": "67a66f1e",
        "outputId": "ec9bbacb-7d47-42ad-b8d0-fa526b3a286c",
        "colab": {
          "base_uri": "https://localhost:8080/",
          "height": 533
        }
      },
      "outputs": [
        {
          "output_type": "execute_result",
          "data": {
            "text/plain": [
              "  property_type       society     sector  price  price_per_sqft  \\\n",
              "0          flat    chd avenue  sector 71   1.10          6790.0   \n",
              "1          flat  tulip violet  sector 69   3.10          9822.0   \n",
              "2         house   independent  sector 43   7.85         29074.0   \n",
              "3          flat    chd avenue  sector 71   0.98          6049.0   \n",
              "4          flat   m3m skywalk  sector 74   1.47         10954.0   \n",
              "\n",
              "                                        areaWithType  bedRoom  bathroom  \\\n",
              "0              Super Built up area 1620(150.5 sq.m.)        3         3   \n",
              "1  Super Built up area 3156(293.2 sq.m.)Carpet ar...        4         6   \n",
              "2                        Plot area 300(250.84 sq.m.)        9         9   \n",
              "3              Super Built up area 1620(150.5 sq.m.)        3         3   \n",
              "4             Super Built up area 1415(131.46 sq.m.)        2         2   \n",
              "\n",
              "  balcony  floorNum  ... super_built_up_area built_up_area  carpet_area  \\\n",
              "0       3      11.0  ...              1620.0           NaN          NaN   \n",
              "1      3+      14.0  ...              3156.0           NaN       2500.0   \n",
              "2      3+       3.0  ...                 NaN        2700.0          NaN   \n",
              "3       3       0.0  ...              1620.0           NaN          NaN   \n",
              "4       3      26.0  ...              1415.0           NaN          NaN   \n",
              "\n",
              "   study room  servant room  store room  pooja room  others  furnishing_type  \\\n",
              "0           0             0           0           0       1                0   \n",
              "1           0             1           0           1       0                0   \n",
              "2           1             1           0           1       1                1   \n",
              "3           1             0           0           0       0                0   \n",
              "4           0             0           0           0       0                2   \n",
              "\n",
              "   luxury_score  \n",
              "0            72  \n",
              "1           174  \n",
              "2            49  \n",
              "3            65  \n",
              "4            31  \n",
              "\n",
              "[5 rows x 23 columns]"
            ],
            "text/html": [
              "\n",
              "  <div id=\"df-36ad4210-9573-49a7-aedb-7358706dfb84\" class=\"colab-df-container\">\n",
              "    <div>\n",
              "<style scoped>\n",
              "    .dataframe tbody tr th:only-of-type {\n",
              "        vertical-align: middle;\n",
              "    }\n",
              "\n",
              "    .dataframe tbody tr th {\n",
              "        vertical-align: top;\n",
              "    }\n",
              "\n",
              "    .dataframe thead th {\n",
              "        text-align: right;\n",
              "    }\n",
              "</style>\n",
              "<table border=\"1\" class=\"dataframe\">\n",
              "  <thead>\n",
              "    <tr style=\"text-align: right;\">\n",
              "      <th></th>\n",
              "      <th>property_type</th>\n",
              "      <th>society</th>\n",
              "      <th>sector</th>\n",
              "      <th>price</th>\n",
              "      <th>price_per_sqft</th>\n",
              "      <th>areaWithType</th>\n",
              "      <th>bedRoom</th>\n",
              "      <th>bathroom</th>\n",
              "      <th>balcony</th>\n",
              "      <th>floorNum</th>\n",
              "      <th>...</th>\n",
              "      <th>super_built_up_area</th>\n",
              "      <th>built_up_area</th>\n",
              "      <th>carpet_area</th>\n",
              "      <th>study room</th>\n",
              "      <th>servant room</th>\n",
              "      <th>store room</th>\n",
              "      <th>pooja room</th>\n",
              "      <th>others</th>\n",
              "      <th>furnishing_type</th>\n",
              "      <th>luxury_score</th>\n",
              "    </tr>\n",
              "  </thead>\n",
              "  <tbody>\n",
              "    <tr>\n",
              "      <th>0</th>\n",
              "      <td>flat</td>\n",
              "      <td>chd avenue</td>\n",
              "      <td>sector 71</td>\n",
              "      <td>1.10</td>\n",
              "      <td>6790.0</td>\n",
              "      <td>Super Built up area 1620(150.5 sq.m.)</td>\n",
              "      <td>3</td>\n",
              "      <td>3</td>\n",
              "      <td>3</td>\n",
              "      <td>11.0</td>\n",
              "      <td>...</td>\n",
              "      <td>1620.0</td>\n",
              "      <td>NaN</td>\n",
              "      <td>NaN</td>\n",
              "      <td>0</td>\n",
              "      <td>0</td>\n",
              "      <td>0</td>\n",
              "      <td>0</td>\n",
              "      <td>1</td>\n",
              "      <td>0</td>\n",
              "      <td>72</td>\n",
              "    </tr>\n",
              "    <tr>\n",
              "      <th>1</th>\n",
              "      <td>flat</td>\n",
              "      <td>tulip violet</td>\n",
              "      <td>sector 69</td>\n",
              "      <td>3.10</td>\n",
              "      <td>9822.0</td>\n",
              "      <td>Super Built up area 3156(293.2 sq.m.)Carpet ar...</td>\n",
              "      <td>4</td>\n",
              "      <td>6</td>\n",
              "      <td>3+</td>\n",
              "      <td>14.0</td>\n",
              "      <td>...</td>\n",
              "      <td>3156.0</td>\n",
              "      <td>NaN</td>\n",
              "      <td>2500.0</td>\n",
              "      <td>0</td>\n",
              "      <td>1</td>\n",
              "      <td>0</td>\n",
              "      <td>1</td>\n",
              "      <td>0</td>\n",
              "      <td>0</td>\n",
              "      <td>174</td>\n",
              "    </tr>\n",
              "    <tr>\n",
              "      <th>2</th>\n",
              "      <td>house</td>\n",
              "      <td>independent</td>\n",
              "      <td>sector 43</td>\n",
              "      <td>7.85</td>\n",
              "      <td>29074.0</td>\n",
              "      <td>Plot area 300(250.84 sq.m.)</td>\n",
              "      <td>9</td>\n",
              "      <td>9</td>\n",
              "      <td>3+</td>\n",
              "      <td>3.0</td>\n",
              "      <td>...</td>\n",
              "      <td>NaN</td>\n",
              "      <td>2700.0</td>\n",
              "      <td>NaN</td>\n",
              "      <td>1</td>\n",
              "      <td>1</td>\n",
              "      <td>0</td>\n",
              "      <td>1</td>\n",
              "      <td>1</td>\n",
              "      <td>1</td>\n",
              "      <td>49</td>\n",
              "    </tr>\n",
              "    <tr>\n",
              "      <th>3</th>\n",
              "      <td>flat</td>\n",
              "      <td>chd avenue</td>\n",
              "      <td>sector 71</td>\n",
              "      <td>0.98</td>\n",
              "      <td>6049.0</td>\n",
              "      <td>Super Built up area 1620(150.5 sq.m.)</td>\n",
              "      <td>3</td>\n",
              "      <td>3</td>\n",
              "      <td>3</td>\n",
              "      <td>0.0</td>\n",
              "      <td>...</td>\n",
              "      <td>1620.0</td>\n",
              "      <td>NaN</td>\n",
              "      <td>NaN</td>\n",
              "      <td>1</td>\n",
              "      <td>0</td>\n",
              "      <td>0</td>\n",
              "      <td>0</td>\n",
              "      <td>0</td>\n",
              "      <td>0</td>\n",
              "      <td>65</td>\n",
              "    </tr>\n",
              "    <tr>\n",
              "      <th>4</th>\n",
              "      <td>flat</td>\n",
              "      <td>m3m skywalk</td>\n",
              "      <td>sector 74</td>\n",
              "      <td>1.47</td>\n",
              "      <td>10954.0</td>\n",
              "      <td>Super Built up area 1415(131.46 sq.m.)</td>\n",
              "      <td>2</td>\n",
              "      <td>2</td>\n",
              "      <td>3</td>\n",
              "      <td>26.0</td>\n",
              "      <td>...</td>\n",
              "      <td>1415.0</td>\n",
              "      <td>NaN</td>\n",
              "      <td>NaN</td>\n",
              "      <td>0</td>\n",
              "      <td>0</td>\n",
              "      <td>0</td>\n",
              "      <td>0</td>\n",
              "      <td>0</td>\n",
              "      <td>2</td>\n",
              "      <td>31</td>\n",
              "    </tr>\n",
              "  </tbody>\n",
              "</table>\n",
              "<p>5 rows × 23 columns</p>\n",
              "</div>\n",
              "    <div class=\"colab-df-buttons\">\n",
              "\n",
              "  <div class=\"colab-df-container\">\n",
              "    <button class=\"colab-df-convert\" onclick=\"convertToInteractive('df-36ad4210-9573-49a7-aedb-7358706dfb84')\"\n",
              "            title=\"Convert this dataframe to an interactive table.\"\n",
              "            style=\"display:none;\">\n",
              "\n",
              "  <svg xmlns=\"http://www.w3.org/2000/svg\" height=\"24px\" viewBox=\"0 -960 960 960\">\n",
              "    <path d=\"M120-120v-720h720v720H120Zm60-500h600v-160H180v160Zm220 220h160v-160H400v160Zm0 220h160v-160H400v160ZM180-400h160v-160H180v160Zm440 0h160v-160H620v160ZM180-180h160v-160H180v160Zm440 0h160v-160H620v160Z\"/>\n",
              "  </svg>\n",
              "    </button>\n",
              "\n",
              "  <style>\n",
              "    .colab-df-container {\n",
              "      display:flex;\n",
              "      gap: 12px;\n",
              "    }\n",
              "\n",
              "    .colab-df-convert {\n",
              "      background-color: #E8F0FE;\n",
              "      border: none;\n",
              "      border-radius: 50%;\n",
              "      cursor: pointer;\n",
              "      display: none;\n",
              "      fill: #1967D2;\n",
              "      height: 32px;\n",
              "      padding: 0 0 0 0;\n",
              "      width: 32px;\n",
              "    }\n",
              "\n",
              "    .colab-df-convert:hover {\n",
              "      background-color: #E2EBFA;\n",
              "      box-shadow: 0px 1px 2px rgba(60, 64, 67, 0.3), 0px 1px 3px 1px rgba(60, 64, 67, 0.15);\n",
              "      fill: #174EA6;\n",
              "    }\n",
              "\n",
              "    .colab-df-buttons div {\n",
              "      margin-bottom: 4px;\n",
              "    }\n",
              "\n",
              "    [theme=dark] .colab-df-convert {\n",
              "      background-color: #3B4455;\n",
              "      fill: #D2E3FC;\n",
              "    }\n",
              "\n",
              "    [theme=dark] .colab-df-convert:hover {\n",
              "      background-color: #434B5C;\n",
              "      box-shadow: 0px 1px 3px 1px rgba(0, 0, 0, 0.15);\n",
              "      filter: drop-shadow(0px 1px 2px rgba(0, 0, 0, 0.3));\n",
              "      fill: #FFFFFF;\n",
              "    }\n",
              "  </style>\n",
              "\n",
              "    <script>\n",
              "      const buttonEl =\n",
              "        document.querySelector('#df-36ad4210-9573-49a7-aedb-7358706dfb84 button.colab-df-convert');\n",
              "      buttonEl.style.display =\n",
              "        google.colab.kernel.accessAllowed ? 'block' : 'none';\n",
              "\n",
              "      async function convertToInteractive(key) {\n",
              "        const element = document.querySelector('#df-36ad4210-9573-49a7-aedb-7358706dfb84');\n",
              "        const dataTable =\n",
              "          await google.colab.kernel.invokeFunction('convertToInteractive',\n",
              "                                                    [key], {});\n",
              "        if (!dataTable) return;\n",
              "\n",
              "        const docLinkHtml = 'Like what you see? Visit the ' +\n",
              "          '<a target=\"_blank\" href=https://colab.research.google.com/notebooks/data_table.ipynb>data table notebook</a>'\n",
              "          + ' to learn more about interactive tables.';\n",
              "        element.innerHTML = '';\n",
              "        dataTable['output_type'] = 'display_data';\n",
              "        await google.colab.output.renderOutput(dataTable, element);\n",
              "        const docLink = document.createElement('div');\n",
              "        docLink.innerHTML = docLinkHtml;\n",
              "        element.appendChild(docLink);\n",
              "      }\n",
              "    </script>\n",
              "  </div>\n",
              "\n",
              "\n",
              "<div id=\"df-8eebe479-a871-44bd-911f-d7bd3996c6b1\">\n",
              "  <button class=\"colab-df-quickchart\" onclick=\"quickchart('df-8eebe479-a871-44bd-911f-d7bd3996c6b1')\"\n",
              "            title=\"Suggest charts\"\n",
              "            style=\"display:none;\">\n",
              "\n",
              "<svg xmlns=\"http://www.w3.org/2000/svg\" height=\"24px\"viewBox=\"0 0 24 24\"\n",
              "     width=\"24px\">\n",
              "    <g>\n",
              "        <path d=\"M19 3H5c-1.1 0-2 .9-2 2v14c0 1.1.9 2 2 2h14c1.1 0 2-.9 2-2V5c0-1.1-.9-2-2-2zM9 17H7v-7h2v7zm4 0h-2V7h2v10zm4 0h-2v-4h2v4z\"/>\n",
              "    </g>\n",
              "</svg>\n",
              "  </button>\n",
              "\n",
              "<style>\n",
              "  .colab-df-quickchart {\n",
              "      --bg-color: #E8F0FE;\n",
              "      --fill-color: #1967D2;\n",
              "      --hover-bg-color: #E2EBFA;\n",
              "      --hover-fill-color: #174EA6;\n",
              "      --disabled-fill-color: #AAA;\n",
              "      --disabled-bg-color: #DDD;\n",
              "  }\n",
              "\n",
              "  [theme=dark] .colab-df-quickchart {\n",
              "      --bg-color: #3B4455;\n",
              "      --fill-color: #D2E3FC;\n",
              "      --hover-bg-color: #434B5C;\n",
              "      --hover-fill-color: #FFFFFF;\n",
              "      --disabled-bg-color: #3B4455;\n",
              "      --disabled-fill-color: #666;\n",
              "  }\n",
              "\n",
              "  .colab-df-quickchart {\n",
              "    background-color: var(--bg-color);\n",
              "    border: none;\n",
              "    border-radius: 50%;\n",
              "    cursor: pointer;\n",
              "    display: none;\n",
              "    fill: var(--fill-color);\n",
              "    height: 32px;\n",
              "    padding: 0;\n",
              "    width: 32px;\n",
              "  }\n",
              "\n",
              "  .colab-df-quickchart:hover {\n",
              "    background-color: var(--hover-bg-color);\n",
              "    box-shadow: 0 1px 2px rgba(60, 64, 67, 0.3), 0 1px 3px 1px rgba(60, 64, 67, 0.15);\n",
              "    fill: var(--button-hover-fill-color);\n",
              "  }\n",
              "\n",
              "  .colab-df-quickchart-complete:disabled,\n",
              "  .colab-df-quickchart-complete:disabled:hover {\n",
              "    background-color: var(--disabled-bg-color);\n",
              "    fill: var(--disabled-fill-color);\n",
              "    box-shadow: none;\n",
              "  }\n",
              "\n",
              "  .colab-df-spinner {\n",
              "    border: 2px solid var(--fill-color);\n",
              "    border-color: transparent;\n",
              "    border-bottom-color: var(--fill-color);\n",
              "    animation:\n",
              "      spin 1s steps(1) infinite;\n",
              "  }\n",
              "\n",
              "  @keyframes spin {\n",
              "    0% {\n",
              "      border-color: transparent;\n",
              "      border-bottom-color: var(--fill-color);\n",
              "      border-left-color: var(--fill-color);\n",
              "    }\n",
              "    20% {\n",
              "      border-color: transparent;\n",
              "      border-left-color: var(--fill-color);\n",
              "      border-top-color: var(--fill-color);\n",
              "    }\n",
              "    30% {\n",
              "      border-color: transparent;\n",
              "      border-left-color: var(--fill-color);\n",
              "      border-top-color: var(--fill-color);\n",
              "      border-right-color: var(--fill-color);\n",
              "    }\n",
              "    40% {\n",
              "      border-color: transparent;\n",
              "      border-right-color: var(--fill-color);\n",
              "      border-top-color: var(--fill-color);\n",
              "    }\n",
              "    60% {\n",
              "      border-color: transparent;\n",
              "      border-right-color: var(--fill-color);\n",
              "    }\n",
              "    80% {\n",
              "      border-color: transparent;\n",
              "      border-right-color: var(--fill-color);\n",
              "      border-bottom-color: var(--fill-color);\n",
              "    }\n",
              "    90% {\n",
              "      border-color: transparent;\n",
              "      border-bottom-color: var(--fill-color);\n",
              "    }\n",
              "  }\n",
              "</style>\n",
              "\n",
              "  <script>\n",
              "    async function quickchart(key) {\n",
              "      const quickchartButtonEl =\n",
              "        document.querySelector('#' + key + ' button');\n",
              "      quickchartButtonEl.disabled = true;  // To prevent multiple clicks.\n",
              "      quickchartButtonEl.classList.add('colab-df-spinner');\n",
              "      try {\n",
              "        const charts = await google.colab.kernel.invokeFunction(\n",
              "            'suggestCharts', [key], {});\n",
              "      } catch (error) {\n",
              "        console.error('Error during call to suggestCharts:', error);\n",
              "      }\n",
              "      quickchartButtonEl.classList.remove('colab-df-spinner');\n",
              "      quickchartButtonEl.classList.add('colab-df-quickchart-complete');\n",
              "    }\n",
              "    (() => {\n",
              "      let quickchartButtonEl =\n",
              "        document.querySelector('#df-8eebe479-a871-44bd-911f-d7bd3996c6b1 button');\n",
              "      quickchartButtonEl.style.display =\n",
              "        google.colab.kernel.accessAllowed ? 'block' : 'none';\n",
              "    })();\n",
              "  </script>\n",
              "</div>\n",
              "\n",
              "    </div>\n",
              "  </div>\n"
            ]
          },
          "metadata": {},
          "execution_count": 80
        }
      ],
      "source": [
        "df.head()"
      ]
    },
    {
      "cell_type": "code",
      "execution_count": 80,
      "id": "33276940",
      "metadata": {
        "id": "33276940"
      },
      "outputs": [],
      "source": []
    }
  ],
  "metadata": {
    "kernelspec": {
      "display_name": "Python 3 (ipykernel)",
      "language": "python",
      "name": "python3"
    },
    "language_info": {
      "codemirror_mode": {
        "name": "ipython",
        "version": 3
      },
      "file_extension": ".py",
      "mimetype": "text/x-python",
      "name": "python",
      "nbconvert_exporter": "python",
      "pygments_lexer": "ipython3",
      "version": "3.9.7"
    },
    "colab": {
      "provenance": []
    }
  },
  "nbformat": 4,
  "nbformat_minor": 5
}